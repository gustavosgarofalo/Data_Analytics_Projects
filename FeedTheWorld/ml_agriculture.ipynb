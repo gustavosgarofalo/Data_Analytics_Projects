{
 "cells": [
  {
   "cell_type": "code",
   "execution_count": 1,
   "metadata": {},
   "outputs": [],
   "source": [
    "import pandas as pd\n",
    "import numpy as np\n",
    "import plotly.graph_objects as go\n",
    "import numpy as np\n",
    "import matplotlib.pyplot as plt\n",
    "import matplotlib.cbook as cbook\n",
    "import seaborn as sns"
   ]
  },
  {
   "cell_type": "markdown",
   "metadata": {},
   "source": [
    "# Importing of primary data frame"
   ]
  },
  {
   "cell_type": "code",
   "execution_count": 2,
   "metadata": {},
   "outputs": [
    {
     "data": {
      "text/html": [
       "<div>\n",
       "<style scoped>\n",
       "    .dataframe tbody tr th:only-of-type {\n",
       "        vertical-align: middle;\n",
       "    }\n",
       "\n",
       "    .dataframe tbody tr th {\n",
       "        vertical-align: top;\n",
       "    }\n",
       "\n",
       "    .dataframe thead th {\n",
       "        text-align: right;\n",
       "    }\n",
       "</style>\n",
       "<table border=\"1\" class=\"dataframe\">\n",
       "  <thead>\n",
       "    <tr style=\"text-align: right;\">\n",
       "      <th></th>\n",
       "      <th>Area Abbreviation</th>\n",
       "      <th>Area Code</th>\n",
       "      <th>Area</th>\n",
       "      <th>Item Code</th>\n",
       "      <th>Item</th>\n",
       "      <th>Element Code</th>\n",
       "      <th>Element</th>\n",
       "      <th>Unit</th>\n",
       "      <th>latitude</th>\n",
       "      <th>longitude</th>\n",
       "      <th>...</th>\n",
       "      <th>Y2004</th>\n",
       "      <th>Y2005</th>\n",
       "      <th>Y2006</th>\n",
       "      <th>Y2007</th>\n",
       "      <th>Y2008</th>\n",
       "      <th>Y2009</th>\n",
       "      <th>Y2010</th>\n",
       "      <th>Y2011</th>\n",
       "      <th>Y2012</th>\n",
       "      <th>Y2013</th>\n",
       "    </tr>\n",
       "  </thead>\n",
       "  <tbody>\n",
       "    <tr>\n",
       "      <td>0</td>\n",
       "      <td>AFG</td>\n",
       "      <td>2</td>\n",
       "      <td>Afghanistan</td>\n",
       "      <td>2511</td>\n",
       "      <td>Wheat and products</td>\n",
       "      <td>5142</td>\n",
       "      <td>Food</td>\n",
       "      <td>1000 tonnes</td>\n",
       "      <td>33.94</td>\n",
       "      <td>67.71</td>\n",
       "      <td>...</td>\n",
       "      <td>3249.0</td>\n",
       "      <td>3486.0</td>\n",
       "      <td>3704.0</td>\n",
       "      <td>4164.0</td>\n",
       "      <td>4252.0</td>\n",
       "      <td>4538.0</td>\n",
       "      <td>4605.0</td>\n",
       "      <td>4711.0</td>\n",
       "      <td>4810</td>\n",
       "      <td>4895</td>\n",
       "    </tr>\n",
       "    <tr>\n",
       "      <td>1</td>\n",
       "      <td>AFG</td>\n",
       "      <td>2</td>\n",
       "      <td>Afghanistan</td>\n",
       "      <td>2805</td>\n",
       "      <td>Rice (Milled Equivalent)</td>\n",
       "      <td>5142</td>\n",
       "      <td>Food</td>\n",
       "      <td>1000 tonnes</td>\n",
       "      <td>33.94</td>\n",
       "      <td>67.71</td>\n",
       "      <td>...</td>\n",
       "      <td>419.0</td>\n",
       "      <td>445.0</td>\n",
       "      <td>546.0</td>\n",
       "      <td>455.0</td>\n",
       "      <td>490.0</td>\n",
       "      <td>415.0</td>\n",
       "      <td>442.0</td>\n",
       "      <td>476.0</td>\n",
       "      <td>425</td>\n",
       "      <td>422</td>\n",
       "    </tr>\n",
       "    <tr>\n",
       "      <td>2</td>\n",
       "      <td>AFG</td>\n",
       "      <td>2</td>\n",
       "      <td>Afghanistan</td>\n",
       "      <td>2513</td>\n",
       "      <td>Barley and products</td>\n",
       "      <td>5521</td>\n",
       "      <td>Feed</td>\n",
       "      <td>1000 tonnes</td>\n",
       "      <td>33.94</td>\n",
       "      <td>67.71</td>\n",
       "      <td>...</td>\n",
       "      <td>58.0</td>\n",
       "      <td>236.0</td>\n",
       "      <td>262.0</td>\n",
       "      <td>263.0</td>\n",
       "      <td>230.0</td>\n",
       "      <td>379.0</td>\n",
       "      <td>315.0</td>\n",
       "      <td>203.0</td>\n",
       "      <td>367</td>\n",
       "      <td>360</td>\n",
       "    </tr>\n",
       "    <tr>\n",
       "      <td>3</td>\n",
       "      <td>AFG</td>\n",
       "      <td>2</td>\n",
       "      <td>Afghanistan</td>\n",
       "      <td>2513</td>\n",
       "      <td>Barley and products</td>\n",
       "      <td>5142</td>\n",
       "      <td>Food</td>\n",
       "      <td>1000 tonnes</td>\n",
       "      <td>33.94</td>\n",
       "      <td>67.71</td>\n",
       "      <td>...</td>\n",
       "      <td>185.0</td>\n",
       "      <td>43.0</td>\n",
       "      <td>44.0</td>\n",
       "      <td>48.0</td>\n",
       "      <td>62.0</td>\n",
       "      <td>55.0</td>\n",
       "      <td>60.0</td>\n",
       "      <td>72.0</td>\n",
       "      <td>78</td>\n",
       "      <td>89</td>\n",
       "    </tr>\n",
       "    <tr>\n",
       "      <td>4</td>\n",
       "      <td>AFG</td>\n",
       "      <td>2</td>\n",
       "      <td>Afghanistan</td>\n",
       "      <td>2514</td>\n",
       "      <td>Maize and products</td>\n",
       "      <td>5521</td>\n",
       "      <td>Feed</td>\n",
       "      <td>1000 tonnes</td>\n",
       "      <td>33.94</td>\n",
       "      <td>67.71</td>\n",
       "      <td>...</td>\n",
       "      <td>120.0</td>\n",
       "      <td>208.0</td>\n",
       "      <td>233.0</td>\n",
       "      <td>249.0</td>\n",
       "      <td>247.0</td>\n",
       "      <td>195.0</td>\n",
       "      <td>178.0</td>\n",
       "      <td>191.0</td>\n",
       "      <td>200</td>\n",
       "      <td>200</td>\n",
       "    </tr>\n",
       "  </tbody>\n",
       "</table>\n",
       "<p>5 rows × 63 columns</p>\n",
       "</div>"
      ],
      "text/plain": [
       "  Area Abbreviation  Area Code         Area  Item Code  \\\n",
       "0               AFG          2  Afghanistan       2511   \n",
       "1               AFG          2  Afghanistan       2805   \n",
       "2               AFG          2  Afghanistan       2513   \n",
       "3               AFG          2  Afghanistan       2513   \n",
       "4               AFG          2  Afghanistan       2514   \n",
       "\n",
       "                       Item  Element Code Element         Unit  latitude  \\\n",
       "0        Wheat and products          5142    Food  1000 tonnes     33.94   \n",
       "1  Rice (Milled Equivalent)          5142    Food  1000 tonnes     33.94   \n",
       "2       Barley and products          5521    Feed  1000 tonnes     33.94   \n",
       "3       Barley and products          5142    Food  1000 tonnes     33.94   \n",
       "4        Maize and products          5521    Feed  1000 tonnes     33.94   \n",
       "\n",
       "   longitude  ...   Y2004   Y2005   Y2006   Y2007   Y2008   Y2009   Y2010  \\\n",
       "0      67.71  ...  3249.0  3486.0  3704.0  4164.0  4252.0  4538.0  4605.0   \n",
       "1      67.71  ...   419.0   445.0   546.0   455.0   490.0   415.0   442.0   \n",
       "2      67.71  ...    58.0   236.0   262.0   263.0   230.0   379.0   315.0   \n",
       "3      67.71  ...   185.0    43.0    44.0    48.0    62.0    55.0    60.0   \n",
       "4      67.71  ...   120.0   208.0   233.0   249.0   247.0   195.0   178.0   \n",
       "\n",
       "    Y2011  Y2012  Y2013  \n",
       "0  4711.0   4810   4895  \n",
       "1   476.0    425    422  \n",
       "2   203.0    367    360  \n",
       "3    72.0     78     89  \n",
       "4   191.0    200    200  \n",
       "\n",
       "[5 rows x 63 columns]"
      ]
     },
     "execution_count": 2,
     "metadata": {},
     "output_type": "execute_result"
    }
   ],
   "source": [
    "file_path=\"food_feed.csv\"\n",
    "df=pd.read_csv(file_path, encoding='unicode_escape')\n",
    "df.head()\n"
   ]
  },
  {
   "cell_type": "code",
   "execution_count": 3,
   "metadata": {
    "scrolled": false
   },
   "outputs": [
    {
     "data": {
      "text/html": [
       "<div>\n",
       "<style scoped>\n",
       "    .dataframe tbody tr th:only-of-type {\n",
       "        vertical-align: middle;\n",
       "    }\n",
       "\n",
       "    .dataframe tbody tr th {\n",
       "        vertical-align: top;\n",
       "    }\n",
       "\n",
       "    .dataframe thead th {\n",
       "        text-align: right;\n",
       "    }\n",
       "</style>\n",
       "<table border=\"1\" class=\"dataframe\">\n",
       "  <thead>\n",
       "    <tr style=\"text-align: right;\">\n",
       "      <th></th>\n",
       "      <th></th>\n",
       "      <th>Area Code</th>\n",
       "      <th>Item Code</th>\n",
       "      <th>Element Code</th>\n",
       "      <th>latitude</th>\n",
       "      <th>longitude</th>\n",
       "      <th>Y1961</th>\n",
       "      <th>Y1962</th>\n",
       "      <th>Y1963</th>\n",
       "      <th>Y1964</th>\n",
       "      <th>Y1965</th>\n",
       "      <th>...</th>\n",
       "      <th>Y2004</th>\n",
       "      <th>Y2005</th>\n",
       "      <th>Y2006</th>\n",
       "      <th>Y2007</th>\n",
       "      <th>Y2008</th>\n",
       "      <th>Y2009</th>\n",
       "      <th>Y2010</th>\n",
       "      <th>Y2011</th>\n",
       "      <th>Y2012</th>\n",
       "      <th>Y2013</th>\n",
       "    </tr>\n",
       "    <tr>\n",
       "      <th>Area</th>\n",
       "      <th>Element</th>\n",
       "      <th></th>\n",
       "      <th></th>\n",
       "      <th></th>\n",
       "      <th></th>\n",
       "      <th></th>\n",
       "      <th></th>\n",
       "      <th></th>\n",
       "      <th></th>\n",
       "      <th></th>\n",
       "      <th></th>\n",
       "      <th></th>\n",
       "      <th></th>\n",
       "      <th></th>\n",
       "      <th></th>\n",
       "      <th></th>\n",
       "      <th></th>\n",
       "      <th></th>\n",
       "      <th></th>\n",
       "      <th></th>\n",
       "      <th></th>\n",
       "      <th></th>\n",
       "    </tr>\n",
       "  </thead>\n",
       "  <tbody>\n",
       "    <tr>\n",
       "      <td rowspan=\"2\" valign=\"top\">Afghanistan</td>\n",
       "      <td>Feed</td>\n",
       "      <td>20</td>\n",
       "      <td>27169</td>\n",
       "      <td>55210</td>\n",
       "      <td>339.40</td>\n",
       "      <td>677.10</td>\n",
       "      <td>720.0</td>\n",
       "      <td>720.0</td>\n",
       "      <td>736.0</td>\n",
       "      <td>740.0</td>\n",
       "      <td>720.0</td>\n",
       "      <td>...</td>\n",
       "      <td>704.0</td>\n",
       "      <td>1184.0</td>\n",
       "      <td>1342.0</td>\n",
       "      <td>1392.0</td>\n",
       "      <td>1294.0</td>\n",
       "      <td>1616.0</td>\n",
       "      <td>1388.0</td>\n",
       "      <td>1192.0</td>\n",
       "      <td>1522</td>\n",
       "      <td>1536</td>\n",
       "    </tr>\n",
       "    <tr>\n",
       "      <td>Food</td>\n",
       "      <td>146</td>\n",
       "      <td>197526</td>\n",
       "      <td>375366</td>\n",
       "      <td>2477.62</td>\n",
       "      <td>4942.83</td>\n",
       "      <td>8761.0</td>\n",
       "      <td>8694.0</td>\n",
       "      <td>8458.0</td>\n",
       "      <td>9430.0</td>\n",
       "      <td>9753.0</td>\n",
       "      <td>...</td>\n",
       "      <td>15838.0</td>\n",
       "      <td>16474.0</td>\n",
       "      <td>16975.0</td>\n",
       "      <td>17856.0</td>\n",
       "      <td>18087.0</td>\n",
       "      <td>19045.0</td>\n",
       "      <td>19642.0</td>\n",
       "      <td>19908.0</td>\n",
       "      <td>21184</td>\n",
       "      <td>21471</td>\n",
       "    </tr>\n",
       "    <tr>\n",
       "      <td rowspan=\"2\" valign=\"top\">Albania</td>\n",
       "      <td>Feed</td>\n",
       "      <td>75</td>\n",
       "      <td>67296</td>\n",
       "      <td>138025</td>\n",
       "      <td>1028.75</td>\n",
       "      <td>504.25</td>\n",
       "      <td>94.0</td>\n",
       "      <td>108.0</td>\n",
       "      <td>124.0</td>\n",
       "      <td>122.0</td>\n",
       "      <td>95.0</td>\n",
       "      <td>...</td>\n",
       "      <td>990.0</td>\n",
       "      <td>994.0</td>\n",
       "      <td>1047.0</td>\n",
       "      <td>959.0</td>\n",
       "      <td>1075.0</td>\n",
       "      <td>1134.0</td>\n",
       "      <td>1334.0</td>\n",
       "      <td>1334.0</td>\n",
       "      <td>1312</td>\n",
       "      <td>1319</td>\n",
       "    </tr>\n",
       "    <tr>\n",
       "      <td>Food</td>\n",
       "      <td>294</td>\n",
       "      <td>264397</td>\n",
       "      <td>503916</td>\n",
       "      <td>4032.70</td>\n",
       "      <td>1976.66</td>\n",
       "      <td>1612.0</td>\n",
       "      <td>1641.0</td>\n",
       "      <td>1643.0</td>\n",
       "      <td>1767.0</td>\n",
       "      <td>1789.0</td>\n",
       "      <td>...</td>\n",
       "      <td>5647.0</td>\n",
       "      <td>5725.0</td>\n",
       "      <td>5864.0</td>\n",
       "      <td>5785.0</td>\n",
       "      <td>6093.0</td>\n",
       "      <td>6182.0</td>\n",
       "      <td>6573.0</td>\n",
       "      <td>6780.0</td>\n",
       "      <td>6909</td>\n",
       "      <td>6952</td>\n",
       "    </tr>\n",
       "    <tr>\n",
       "      <td>Algeria</td>\n",
       "      <td>Feed</td>\n",
       "      <td>88</td>\n",
       "      <td>58945</td>\n",
       "      <td>121462</td>\n",
       "      <td>616.66</td>\n",
       "      <td>36.52</td>\n",
       "      <td>83.0</td>\n",
       "      <td>94.0</td>\n",
       "      <td>63.0</td>\n",
       "      <td>98.0</td>\n",
       "      <td>84.0</td>\n",
       "      <td>...</td>\n",
       "      <td>4575.0</td>\n",
       "      <td>4401.0</td>\n",
       "      <td>4599.0</td>\n",
       "      <td>4252.0</td>\n",
       "      <td>3436.0</td>\n",
       "      <td>4839.0</td>\n",
       "      <td>5804.0</td>\n",
       "      <td>7477.0</td>\n",
       "      <td>8549</td>\n",
       "      <td>8706</td>\n",
       "    </tr>\n",
       "  </tbody>\n",
       "</table>\n",
       "<p>5 rows × 58 columns</p>\n",
       "</div>"
      ],
      "text/plain": [
       "                     Area Code  Item Code  Element Code  latitude  longitude  \\\n",
       "Area        Element                                                            \n",
       "Afghanistan Feed            20      27169         55210    339.40     677.10   \n",
       "            Food           146     197526        375366   2477.62    4942.83   \n",
       "Albania     Feed            75      67296        138025   1028.75     504.25   \n",
       "            Food           294     264397        503916   4032.70    1976.66   \n",
       "Algeria     Feed            88      58945        121462    616.66      36.52   \n",
       "\n",
       "                      Y1961   Y1962   Y1963   Y1964   Y1965  ...    Y2004  \\\n",
       "Area        Element                                          ...            \n",
       "Afghanistan Feed      720.0   720.0   736.0   740.0   720.0  ...    704.0   \n",
       "            Food     8761.0  8694.0  8458.0  9430.0  9753.0  ...  15838.0   \n",
       "Albania     Feed       94.0   108.0   124.0   122.0    95.0  ...    990.0   \n",
       "            Food     1612.0  1641.0  1643.0  1767.0  1789.0  ...   5647.0   \n",
       "Algeria     Feed       83.0    94.0    63.0    98.0    84.0  ...   4575.0   \n",
       "\n",
       "                       Y2005    Y2006    Y2007    Y2008    Y2009    Y2010  \\\n",
       "Area        Element                                                         \n",
       "Afghanistan Feed      1184.0   1342.0   1392.0   1294.0   1616.0   1388.0   \n",
       "            Food     16474.0  16975.0  17856.0  18087.0  19045.0  19642.0   \n",
       "Albania     Feed       994.0   1047.0    959.0   1075.0   1134.0   1334.0   \n",
       "            Food      5725.0   5864.0   5785.0   6093.0   6182.0   6573.0   \n",
       "Algeria     Feed      4401.0   4599.0   4252.0   3436.0   4839.0   5804.0   \n",
       "\n",
       "                       Y2011  Y2012  Y2013  \n",
       "Area        Element                         \n",
       "Afghanistan Feed      1192.0   1522   1536  \n",
       "            Food     19908.0  21184  21471  \n",
       "Albania     Feed      1334.0   1312   1319  \n",
       "            Food      6780.0   6909   6952  \n",
       "Algeria     Feed      7477.0   8549   8706  \n",
       "\n",
       "[5 rows x 58 columns]"
      ]
     },
     "execution_count": 3,
     "metadata": {},
     "output_type": "execute_result"
    }
   ],
   "source": [
    "by_country=df.groupby([\"Area\",\"Element\"]).sum()\n",
    "by_country.head()\n"
   ]
  },
  {
   "cell_type": "markdown",
   "metadata": {},
   "source": [
    "# IMPORTING SECONDARY DF WITH WORLD POP(RESHAPING) "
   ]
  },
  {
   "cell_type": "code",
   "execution_count": 4,
   "metadata": {},
   "outputs": [
    {
     "data": {
      "text/html": [
       "<div>\n",
       "<style scoped>\n",
       "    .dataframe tbody tr th:only-of-type {\n",
       "        vertical-align: middle;\n",
       "    }\n",
       "\n",
       "    .dataframe tbody tr th {\n",
       "        vertical-align: top;\n",
       "    }\n",
       "\n",
       "    .dataframe thead th {\n",
       "        text-align: right;\n",
       "    }\n",
       "</style>\n",
       "<table border=\"1\" class=\"dataframe\">\n",
       "  <thead>\n",
       "    <tr style=\"text-align: right;\">\n",
       "      <th></th>\n",
       "      <th>Country Name</th>\n",
       "      <th>Country Code</th>\n",
       "      <th>Indicator Name</th>\n",
       "      <th>Indicator Code</th>\n",
       "      <th>1960</th>\n",
       "      <th>1961</th>\n",
       "      <th>1962</th>\n",
       "      <th>1963</th>\n",
       "      <th>1964</th>\n",
       "      <th>1965</th>\n",
       "      <th>...</th>\n",
       "      <th>2007</th>\n",
       "      <th>2008</th>\n",
       "      <th>2009</th>\n",
       "      <th>2010</th>\n",
       "      <th>2011</th>\n",
       "      <th>2012</th>\n",
       "      <th>2013</th>\n",
       "      <th>2014</th>\n",
       "      <th>2015</th>\n",
       "      <th>2016</th>\n",
       "    </tr>\n",
       "  </thead>\n",
       "  <tbody>\n",
       "    <tr>\n",
       "      <td>0</td>\n",
       "      <td>Aruba</td>\n",
       "      <td>ABW</td>\n",
       "      <td>Population, total</td>\n",
       "      <td>SP.POP.TOTL</td>\n",
       "      <td>54211.0</td>\n",
       "      <td>55438.0</td>\n",
       "      <td>56225.0</td>\n",
       "      <td>56695.0</td>\n",
       "      <td>57032.0</td>\n",
       "      <td>57360.0</td>\n",
       "      <td>...</td>\n",
       "      <td>101220.0</td>\n",
       "      <td>101353.0</td>\n",
       "      <td>101453.0</td>\n",
       "      <td>101669.0</td>\n",
       "      <td>102053.0</td>\n",
       "      <td>102577.0</td>\n",
       "      <td>103187.0</td>\n",
       "      <td>103795.0</td>\n",
       "      <td>104341.0</td>\n",
       "      <td>104822.0</td>\n",
       "    </tr>\n",
       "    <tr>\n",
       "      <td>1</td>\n",
       "      <td>Afghanistan</td>\n",
       "      <td>AFG</td>\n",
       "      <td>Population, total</td>\n",
       "      <td>SP.POP.TOTL</td>\n",
       "      <td>8996351.0</td>\n",
       "      <td>9166764.0</td>\n",
       "      <td>9345868.0</td>\n",
       "      <td>9533954.0</td>\n",
       "      <td>9731361.0</td>\n",
       "      <td>9938414.0</td>\n",
       "      <td>...</td>\n",
       "      <td>26616792.0</td>\n",
       "      <td>27294031.0</td>\n",
       "      <td>28004331.0</td>\n",
       "      <td>28803167.0</td>\n",
       "      <td>29708599.0</td>\n",
       "      <td>30696958.0</td>\n",
       "      <td>31731688.0</td>\n",
       "      <td>32758020.0</td>\n",
       "      <td>33736494.0</td>\n",
       "      <td>34656032.0</td>\n",
       "    </tr>\n",
       "    <tr>\n",
       "      <td>2</td>\n",
       "      <td>Angola</td>\n",
       "      <td>AGO</td>\n",
       "      <td>Population, total</td>\n",
       "      <td>SP.POP.TOTL</td>\n",
       "      <td>5643182.0</td>\n",
       "      <td>5753024.0</td>\n",
       "      <td>5866061.0</td>\n",
       "      <td>5980417.0</td>\n",
       "      <td>6093321.0</td>\n",
       "      <td>6203299.0</td>\n",
       "      <td>...</td>\n",
       "      <td>20997687.0</td>\n",
       "      <td>21759420.0</td>\n",
       "      <td>22549547.0</td>\n",
       "      <td>23369131.0</td>\n",
       "      <td>24218565.0</td>\n",
       "      <td>25096150.0</td>\n",
       "      <td>25998340.0</td>\n",
       "      <td>26920466.0</td>\n",
       "      <td>27859305.0</td>\n",
       "      <td>28813463.0</td>\n",
       "    </tr>\n",
       "    <tr>\n",
       "      <td>3</td>\n",
       "      <td>Albania</td>\n",
       "      <td>ALB</td>\n",
       "      <td>Population, total</td>\n",
       "      <td>SP.POP.TOTL</td>\n",
       "      <td>1608800.0</td>\n",
       "      <td>1659800.0</td>\n",
       "      <td>1711319.0</td>\n",
       "      <td>1762621.0</td>\n",
       "      <td>1814135.0</td>\n",
       "      <td>1864791.0</td>\n",
       "      <td>...</td>\n",
       "      <td>2970017.0</td>\n",
       "      <td>2947314.0</td>\n",
       "      <td>2927519.0</td>\n",
       "      <td>2913021.0</td>\n",
       "      <td>2905195.0</td>\n",
       "      <td>2900401.0</td>\n",
       "      <td>2895092.0</td>\n",
       "      <td>2889104.0</td>\n",
       "      <td>2880703.0</td>\n",
       "      <td>2876101.0</td>\n",
       "    </tr>\n",
       "    <tr>\n",
       "      <td>4</td>\n",
       "      <td>Andorra</td>\n",
       "      <td>AND</td>\n",
       "      <td>Population, total</td>\n",
       "      <td>SP.POP.TOTL</td>\n",
       "      <td>13411.0</td>\n",
       "      <td>14375.0</td>\n",
       "      <td>15370.0</td>\n",
       "      <td>16412.0</td>\n",
       "      <td>17469.0</td>\n",
       "      <td>18549.0</td>\n",
       "      <td>...</td>\n",
       "      <td>82683.0</td>\n",
       "      <td>83861.0</td>\n",
       "      <td>84462.0</td>\n",
       "      <td>84449.0</td>\n",
       "      <td>83751.0</td>\n",
       "      <td>82431.0</td>\n",
       "      <td>80788.0</td>\n",
       "      <td>79223.0</td>\n",
       "      <td>78014.0</td>\n",
       "      <td>77281.0</td>\n",
       "    </tr>\n",
       "  </tbody>\n",
       "</table>\n",
       "<p>5 rows × 61 columns</p>\n",
       "</div>"
      ],
      "text/plain": [
       "  Country Name Country Code     Indicator Name Indicator Code       1960  \\\n",
       "0        Aruba          ABW  Population, total    SP.POP.TOTL    54211.0   \n",
       "1  Afghanistan          AFG  Population, total    SP.POP.TOTL  8996351.0   \n",
       "2       Angola          AGO  Population, total    SP.POP.TOTL  5643182.0   \n",
       "3      Albania          ALB  Population, total    SP.POP.TOTL  1608800.0   \n",
       "4      Andorra          AND  Population, total    SP.POP.TOTL    13411.0   \n",
       "\n",
       "        1961       1962       1963       1964       1965  ...        2007  \\\n",
       "0    55438.0    56225.0    56695.0    57032.0    57360.0  ...    101220.0   \n",
       "1  9166764.0  9345868.0  9533954.0  9731361.0  9938414.0  ...  26616792.0   \n",
       "2  5753024.0  5866061.0  5980417.0  6093321.0  6203299.0  ...  20997687.0   \n",
       "3  1659800.0  1711319.0  1762621.0  1814135.0  1864791.0  ...   2970017.0   \n",
       "4    14375.0    15370.0    16412.0    17469.0    18549.0  ...     82683.0   \n",
       "\n",
       "         2008        2009        2010        2011        2012        2013  \\\n",
       "0    101353.0    101453.0    101669.0    102053.0    102577.0    103187.0   \n",
       "1  27294031.0  28004331.0  28803167.0  29708599.0  30696958.0  31731688.0   \n",
       "2  21759420.0  22549547.0  23369131.0  24218565.0  25096150.0  25998340.0   \n",
       "3   2947314.0   2927519.0   2913021.0   2905195.0   2900401.0   2895092.0   \n",
       "4     83861.0     84462.0     84449.0     83751.0     82431.0     80788.0   \n",
       "\n",
       "         2014        2015        2016  \n",
       "0    103795.0    104341.0    104822.0  \n",
       "1  32758020.0  33736494.0  34656032.0  \n",
       "2  26920466.0  27859305.0  28813463.0  \n",
       "3   2889104.0   2880703.0   2876101.0  \n",
       "4     79223.0     78014.0     77281.0  \n",
       "\n",
       "[5 rows x 61 columns]"
      ]
     },
     "execution_count": 4,
     "metadata": {},
     "output_type": "execute_result"
    }
   ],
   "source": [
    "#reading the file with pandas and printing as is \n",
    "file_path2=\"country_population.csv\"\n",
    "df2=pd.read_csv(file_path2)\n",
    "df2.head()\n"
   ]
  },
  {
   "cell_type": "code",
   "execution_count": 5,
   "metadata": {},
   "outputs": [
    {
     "data": {
      "text/html": [
       "<div>\n",
       "<style scoped>\n",
       "    .dataframe tbody tr th:only-of-type {\n",
       "        vertical-align: middle;\n",
       "    }\n",
       "\n",
       "    .dataframe tbody tr th {\n",
       "        vertical-align: top;\n",
       "    }\n",
       "\n",
       "    .dataframe thead th {\n",
       "        text-align: right;\n",
       "    }\n",
       "</style>\n",
       "<table border=\"1\" class=\"dataframe\">\n",
       "  <thead>\n",
       "    <tr style=\"text-align: right;\">\n",
       "      <th></th>\n",
       "      <th>Country Name</th>\n",
       "      <th>Year</th>\n",
       "      <th>Population</th>\n",
       "    </tr>\n",
       "  </thead>\n",
       "  <tbody>\n",
       "    <tr>\n",
       "      <td>0</td>\n",
       "      <td>Aruba</td>\n",
       "      <td>1961</td>\n",
       "      <td>55438.0</td>\n",
       "    </tr>\n",
       "    <tr>\n",
       "      <td>1</td>\n",
       "      <td>Aruba</td>\n",
       "      <td>1962</td>\n",
       "      <td>56225.0</td>\n",
       "    </tr>\n",
       "    <tr>\n",
       "      <td>2</td>\n",
       "      <td>Aruba</td>\n",
       "      <td>1963</td>\n",
       "      <td>56695.0</td>\n",
       "    </tr>\n",
       "    <tr>\n",
       "      <td>3</td>\n",
       "      <td>Aruba</td>\n",
       "      <td>1964</td>\n",
       "      <td>57032.0</td>\n",
       "    </tr>\n",
       "    <tr>\n",
       "      <td>4</td>\n",
       "      <td>Aruba</td>\n",
       "      <td>1965</td>\n",
       "      <td>57360.0</td>\n",
       "    </tr>\n",
       "  </tbody>\n",
       "</table>\n",
       "</div>"
      ],
      "text/plain": [
       "  Country Name  Year  Population\n",
       "0        Aruba  1961     55438.0\n",
       "1        Aruba  1962     56225.0\n",
       "2        Aruba  1963     56695.0\n",
       "3        Aruba  1964     57032.0\n",
       "4        Aruba  1965     57360.0"
      ]
     },
     "execution_count": 5,
     "metadata": {},
     "output_type": "execute_result"
    }
   ],
   "source": [
    "countries=[]\n",
    "countries=df2['Country Name'].tolist()\n",
    "d={'Country Name':'s', 'Year':0, 'Population':0}\n",
    "df_pop=pd.DataFrame(data=d, index=[0])\n",
    "\n",
    "index_data=0\n",
    "index_input=0\n",
    "for c in countries:  \n",
    "    for y in range(1961, 2014, 1):\n",
    "        p=df2.loc[index_data,str(y)]\n",
    "        df_pop.loc[index_input]=[c,y,p] \n",
    "        index_input=index_input+1\n",
    "    index_data=index_data+1\n",
    "\n",
    "df_pop.sort_values(by=['Country Name'])\n",
    "df_pop.head()\n"
   ]
  },
  {
   "cell_type": "code",
   "execution_count": null,
   "metadata": {},
   "outputs": [],
   "source": []
  },
  {
   "cell_type": "code",
   "execution_count": 6,
   "metadata": {},
   "outputs": [],
   "source": [
    "df_pop_filter=df_pop.loc[df_pop['Country Name'] == 'World']"
   ]
  },
  {
   "cell_type": "code",
   "execution_count": 7,
   "metadata": {},
   "outputs": [
    {
     "data": {
      "text/html": [
       "<div>\n",
       "<style scoped>\n",
       "    .dataframe tbody tr th:only-of-type {\n",
       "        vertical-align: middle;\n",
       "    }\n",
       "\n",
       "    .dataframe tbody tr th {\n",
       "        vertical-align: top;\n",
       "    }\n",
       "\n",
       "    .dataframe thead th {\n",
       "        text-align: right;\n",
       "    }\n",
       "</style>\n",
       "<table border=\"1\" class=\"dataframe\">\n",
       "  <thead>\n",
       "    <tr style=\"text-align: right;\">\n",
       "      <th></th>\n",
       "      <th>Population</th>\n",
       "      <th>Population_bi</th>\n",
       "    </tr>\n",
       "    <tr>\n",
       "      <th>Year</th>\n",
       "      <th></th>\n",
       "      <th></th>\n",
       "    </tr>\n",
       "  </thead>\n",
       "  <tbody>\n",
       "    <tr>\n",
       "      <td>1961</td>\n",
       "      <td>3.073369e+09</td>\n",
       "      <td>3.073369</td>\n",
       "    </tr>\n",
       "    <tr>\n",
       "      <td>1962</td>\n",
       "      <td>3.126510e+09</td>\n",
       "      <td>3.126510</td>\n",
       "    </tr>\n",
       "    <tr>\n",
       "      <td>1963</td>\n",
       "      <td>3.191786e+09</td>\n",
       "      <td>3.191786</td>\n",
       "    </tr>\n",
       "    <tr>\n",
       "      <td>1964</td>\n",
       "      <td>3.257460e+09</td>\n",
       "      <td>3.257460</td>\n",
       "    </tr>\n",
       "    <tr>\n",
       "      <td>1965</td>\n",
       "      <td>3.324545e+09</td>\n",
       "      <td>3.324545</td>\n",
       "    </tr>\n",
       "  </tbody>\n",
       "</table>\n",
       "</div>"
      ],
      "text/plain": [
       "        Population  Population_bi\n",
       "Year                             \n",
       "1961  3.073369e+09       3.073369\n",
       "1962  3.126510e+09       3.126510\n",
       "1963  3.191786e+09       3.191786\n",
       "1964  3.257460e+09       3.257460\n",
       "1965  3.324545e+09       3.324545"
      ]
     },
     "execution_count": 7,
     "metadata": {},
     "output_type": "execute_result"
    }
   ],
   "source": [
    "total_pop=df_pop_filter.groupby([\"Year\"]).sum()\n",
    "total_pop['Population_bi']=total_pop['Population']/1000000000\n",
    "total_pop.head()"
   ]
  },
  {
   "cell_type": "code",
   "execution_count": 8,
   "metadata": {},
   "outputs": [
    {
     "data": {
      "image/png": "[encoded data removed]",
      "text/plain": [
       "<Figure size 432x288 with 1 Axes>"
      ]
     },
     "metadata": {
      "needs_background": "light"
     },
     "output_type": "display_data"
    }
   ],
   "source": [
    "year=[]\n",
    "for x in range(1961, 2014, 1):\n",
    "  year.append(x)   \n",
    "\n",
    "\n",
    "X=year\n",
    "y=total_pop.Population_bi.values\n",
    "\n",
    "\n",
    "# Plot line of agr prod worldwide\n",
    "plt.plot(X, y, marker='|', color=\"blue\", label=\"Population(bi)\")\n",
    "\n",
    "# Place a legend on the chart in what matplotlib believes to be the \"best\" location\n",
    "plt.legend(loc=\"best\")\n",
    "\n",
    "plt.title(\"World Population Growth (1961-2013)\", fontsize=16, fontweight=\"bold\")\n",
    "plt.xlabel(\"Years\")\n",
    "plt.ylabel(\"Population\")\n",
    "plt.grid()\n",
    "\n",
    "# Print our chart to the screen\n",
    "plt.savefig(\"Figures/world_pop.png\")\n",
    "plt.show()"
   ]
  },
  {
   "cell_type": "markdown",
   "metadata": {},
   "source": [
    "# US POPULATION DF"
   ]
  },
  {
   "cell_type": "code",
   "execution_count": 121,
   "metadata": {},
   "outputs": [],
   "source": [
    "#Setting the columns 'Area' as the new index of the original df\n",
    "us_pop=df_pop.set_index('Country Name')"
   ]
  },
  {
   "cell_type": "code",
   "execution_count": 122,
   "metadata": {},
   "outputs": [
    {
     "data": {
      "text/html": [
       "<div>\n",
       "<style scoped>\n",
       "    .dataframe tbody tr th:only-of-type {\n",
       "        vertical-align: middle;\n",
       "    }\n",
       "\n",
       "    .dataframe tbody tr th {\n",
       "        vertical-align: top;\n",
       "    }\n",
       "\n",
       "    .dataframe thead th {\n",
       "        text-align: right;\n",
       "    }\n",
       "</style>\n",
       "<table border=\"1\" class=\"dataframe\">\n",
       "  <thead>\n",
       "    <tr style=\"text-align: right;\">\n",
       "      <th></th>\n",
       "      <th>Year</th>\n",
       "      <th>Population</th>\n",
       "      <th>Population_bi</th>\n",
       "    </tr>\n",
       "    <tr>\n",
       "      <th>Country Name</th>\n",
       "      <th></th>\n",
       "      <th></th>\n",
       "      <th></th>\n",
       "    </tr>\n",
       "  </thead>\n",
       "  <tbody>\n",
       "    <tr>\n",
       "      <td>United States</td>\n",
       "      <td>1961</td>\n",
       "      <td>183691000.0</td>\n",
       "      <td>0.183691</td>\n",
       "    </tr>\n",
       "    <tr>\n",
       "      <td>United States</td>\n",
       "      <td>1962</td>\n",
       "      <td>186538000.0</td>\n",
       "      <td>0.186538</td>\n",
       "    </tr>\n",
       "    <tr>\n",
       "      <td>United States</td>\n",
       "      <td>1963</td>\n",
       "      <td>189242000.0</td>\n",
       "      <td>0.189242</td>\n",
       "    </tr>\n",
       "    <tr>\n",
       "      <td>United States</td>\n",
       "      <td>1964</td>\n",
       "      <td>191889000.0</td>\n",
       "      <td>0.191889</td>\n",
       "    </tr>\n",
       "    <tr>\n",
       "      <td>United States</td>\n",
       "      <td>1965</td>\n",
       "      <td>194303000.0</td>\n",
       "      <td>0.194303</td>\n",
       "    </tr>\n",
       "  </tbody>\n",
       "</table>\n",
       "</div>"
      ],
      "text/plain": [
       "               Year   Population  Population_bi\n",
       "Country Name                                   \n",
       "United States  1961  183691000.0       0.183691\n",
       "United States  1962  186538000.0       0.186538\n",
       "United States  1963  189242000.0       0.189242\n",
       "United States  1964  191889000.0       0.191889\n",
       "United States  1965  194303000.0       0.194303"
      ]
     },
     "execution_count": 122,
     "metadata": {},
     "output_type": "execute_result"
    }
   ],
   "source": [
    "us_pop_filter=us_pop.loc[['United States']]\n",
    "us_pop_filter['Population_bi']=us_pop_filter['Population']/1000000000\n",
    "us_pop_filter.head()"
   ]
  },
  {
   "cell_type": "markdown",
   "metadata": {},
   "source": [
    "#  IN POPULATION DF"
   ]
  },
  {
   "cell_type": "code",
   "execution_count": 151,
   "metadata": {},
   "outputs": [
    {
     "data": {
      "text/html": [
       "<div>\n",
       "<style scoped>\n",
       "    .dataframe tbody tr th:only-of-type {\n",
       "        vertical-align: middle;\n",
       "    }\n",
       "\n",
       "    .dataframe tbody tr th {\n",
       "        vertical-align: top;\n",
       "    }\n",
       "\n",
       "    .dataframe thead th {\n",
       "        text-align: right;\n",
       "    }\n",
       "</style>\n",
       "<table border=\"1\" class=\"dataframe\">\n",
       "  <thead>\n",
       "    <tr style=\"text-align: right;\">\n",
       "      <th></th>\n",
       "      <th>Year</th>\n",
       "      <th>Population</th>\n",
       "      <th>Population_bi</th>\n",
       "    </tr>\n",
       "    <tr>\n",
       "      <th>Country Name</th>\n",
       "      <th></th>\n",
       "      <th></th>\n",
       "      <th></th>\n",
       "    </tr>\n",
       "  </thead>\n",
       "  <tbody>\n",
       "    <tr>\n",
       "      <td>India</td>\n",
       "      <td>1961</td>\n",
       "      <td>458494963.0</td>\n",
       "      <td>0.458495</td>\n",
       "    </tr>\n",
       "    <tr>\n",
       "      <td>India</td>\n",
       "      <td>1962</td>\n",
       "      <td>467852537.0</td>\n",
       "      <td>0.467853</td>\n",
       "    </tr>\n",
       "    <tr>\n",
       "      <td>India</td>\n",
       "      <td>1963</td>\n",
       "      <td>477527970.0</td>\n",
       "      <td>0.477528</td>\n",
       "    </tr>\n",
       "    <tr>\n",
       "      <td>India</td>\n",
       "      <td>1964</td>\n",
       "      <td>487484535.0</td>\n",
       "      <td>0.487485</td>\n",
       "    </tr>\n",
       "    <tr>\n",
       "      <td>India</td>\n",
       "      <td>1965</td>\n",
       "      <td>497702365.0</td>\n",
       "      <td>0.497702</td>\n",
       "    </tr>\n",
       "  </tbody>\n",
       "</table>\n",
       "</div>"
      ],
      "text/plain": [
       "              Year   Population  Population_bi\n",
       "Country Name                                  \n",
       "India         1961  458494963.0       0.458495\n",
       "India         1962  467852537.0       0.467853\n",
       "India         1963  477527970.0       0.477528\n",
       "India         1964  487484535.0       0.487485\n",
       "India         1965  497702365.0       0.497702"
      ]
     },
     "execution_count": 151,
     "metadata": {},
     "output_type": "execute_result"
    }
   ],
   "source": [
    "in_pop_filter=us_pop.loc[['India']]\n",
    "in_pop_filter['Population_bi']=in_pop_filter['Population']/1000000000\n",
    "in_pop_filter.head()"
   ]
  },
  {
   "cell_type": "markdown",
   "metadata": {},
   "source": [
    "# DF FOR PLOTING US NUMBERS"
   ]
  },
  {
   "cell_type": "code",
   "execution_count": 9,
   "metadata": {},
   "outputs": [],
   "source": [
    "#Setting the columns 'Area' as the new index of the original df\n",
    "new_index_df=df.set_index('Area')\n"
   ]
  },
  {
   "cell_type": "code",
   "execution_count": 10,
   "metadata": {},
   "outputs": [],
   "source": [
    "#filtering by US\n",
    "df_filtered_us=new_index_df.loc[['United States of America']]\n"
   ]
  },
  {
   "cell_type": "code",
   "execution_count": 11,
   "metadata": {},
   "outputs": [],
   "source": [
    "#grouping by element(food/feed), Dropping the columns that are not relevant\n",
    "by_element=df_filtered_us.groupby([\"Element\"]).sum()\n",
    "df_element=by_element.drop(columns=['Area Code', 'Item Code', 'Element Code', 'latitude', 'longitude'])\n"
   ]
  },
  {
   "cell_type": "code",
   "execution_count": 12,
   "metadata": {},
   "outputs": [],
   "source": [
    "#transposing the table and adding percentage columns\n",
    "df_element_us= df_element.T\n"
   ]
  },
  {
   "cell_type": "code",
   "execution_count": 120,
   "metadata": {},
   "outputs": [
    {
     "data": {
      "text/html": [
       "<div>\n",
       "<style scoped>\n",
       "    .dataframe tbody tr th:only-of-type {\n",
       "        vertical-align: middle;\n",
       "    }\n",
       "\n",
       "    .dataframe tbody tr th {\n",
       "        vertical-align: top;\n",
       "    }\n",
       "\n",
       "    .dataframe thead th {\n",
       "        text-align: right;\n",
       "    }\n",
       "</style>\n",
       "<table border=\"1\" class=\"dataframe\">\n",
       "  <thead>\n",
       "    <tr style=\"text-align: right;\">\n",
       "      <th>Element</th>\n",
       "      <th>Feed</th>\n",
       "      <th>Food</th>\n",
       "      <th>Total</th>\n",
       "      <th>Feed_%</th>\n",
       "      <th>Food_%</th>\n",
       "      <th>Year</th>\n",
       "      <th>Food_mi</th>\n",
       "      <th>Feed_mi</th>\n",
       "    </tr>\n",
       "  </thead>\n",
       "  <tbody>\n",
       "    <tr>\n",
       "      <td>Y1961</td>\n",
       "      <td>234413.0</td>\n",
       "      <td>324934.0</td>\n",
       "      <td>559347.0</td>\n",
       "      <td>0.419083</td>\n",
       "      <td>0.580917</td>\n",
       "      <td>1961</td>\n",
       "      <td>0.324934</td>\n",
       "      <td>0.234413</td>\n",
       "    </tr>\n",
       "    <tr>\n",
       "      <td>Y1962</td>\n",
       "      <td>228541.0</td>\n",
       "      <td>327778.0</td>\n",
       "      <td>556319.0</td>\n",
       "      <td>0.410809</td>\n",
       "      <td>0.589191</td>\n",
       "      <td>1962</td>\n",
       "      <td>0.327778</td>\n",
       "      <td>0.228541</td>\n",
       "    </tr>\n",
       "    <tr>\n",
       "      <td>Y1963</td>\n",
       "      <td>223570.0</td>\n",
       "      <td>329060.0</td>\n",
       "      <td>552630.0</td>\n",
       "      <td>0.404556</td>\n",
       "      <td>0.595444</td>\n",
       "      <td>1963</td>\n",
       "      <td>0.329060</td>\n",
       "      <td>0.223570</td>\n",
       "    </tr>\n",
       "    <tr>\n",
       "      <td>Y1964</td>\n",
       "      <td>218512.0</td>\n",
       "      <td>337165.0</td>\n",
       "      <td>555677.0</td>\n",
       "      <td>0.393236</td>\n",
       "      <td>0.606764</td>\n",
       "      <td>1964</td>\n",
       "      <td>0.337165</td>\n",
       "      <td>0.218512</td>\n",
       "    </tr>\n",
       "    <tr>\n",
       "      <td>Y1965</td>\n",
       "      <td>248636.0</td>\n",
       "      <td>340652.0</td>\n",
       "      <td>589288.0</td>\n",
       "      <td>0.421926</td>\n",
       "      <td>0.578074</td>\n",
       "      <td>1965</td>\n",
       "      <td>0.340652</td>\n",
       "      <td>0.248636</td>\n",
       "    </tr>\n",
       "  </tbody>\n",
       "</table>\n",
       "</div>"
      ],
      "text/plain": [
       "Element      Feed      Food     Total    Feed_%    Food_%  Year   Food_mi  \\\n",
       "Y1961    234413.0  324934.0  559347.0  0.419083  0.580917  1961  0.324934   \n",
       "Y1962    228541.0  327778.0  556319.0  0.410809  0.589191  1962  0.327778   \n",
       "Y1963    223570.0  329060.0  552630.0  0.404556  0.595444  1963  0.329060   \n",
       "Y1964    218512.0  337165.0  555677.0  0.393236  0.606764  1964  0.337165   \n",
       "Y1965    248636.0  340652.0  589288.0  0.421926  0.578074  1965  0.340652   \n",
       "\n",
       "Element   Feed_mi  \n",
       "Y1961    0.234413  \n",
       "Y1962    0.228541  \n",
       "Y1963    0.223570  \n",
       "Y1964    0.218512  \n",
       "Y1965    0.248636  "
      ]
     },
     "execution_count": 120,
     "metadata": {},
     "output_type": "execute_result"
    }
   ],
   "source": [
    "#adding collumns to plot\n",
    "df_element_us['Total']=df_element_us['Feed']+df_element_us['Food']\n",
    "df_element_us['Feed_%']=df_element_us['Feed']/df_element_us['Total']\n",
    "df_element_us['Food_%']=df_element_us['Food']/df_element_us['Total']\n",
    "df_element_us['Food_mi']=df_element_us['Food']/1000000\n",
    "df_element_us['Feed_mi']=df_element_us['Feed']/1000000\n",
    "year=[]\n",
    "for x in range(1961, 2014, 1):\n",
    "  year.append(x)   \n",
    "df_element_us['Year']=year\n",
    "\n",
    "df_us=pd.DataFrame(df_element_us)\n",
    "df_us.head()\n"
   ]
  },
  {
   "cell_type": "code",
   "execution_count": 14,
   "metadata": {},
   "outputs": [
    {
     "data": {
      "image/png": "[encoded data removed]",
      "text/plain": [
       "<Figure size 432x288 with 1 Axes>"
      ]
     },
     "metadata": {
      "needs_background": "light"
     },
     "output_type": "display_data"
    }
   ],
   "source": [
    "us_x1=df_us['Feed_%']\n",
    "us_x2=df_us['Food_%']\n",
    "# Plot our line that will be used to track Food for us\n",
    "plt.plot(year, us_x1, color=\"green\", label=\"Feed\")\n",
    "\n",
    "# Plot our line that will be used to track a wrestler's losses over the years\n",
    "plt.plot(year, us_x2, color=\"blue\", label=\"Food\")\n",
    "\n",
    "# Place a legend on the chart in what matplotlib believes to be the \"best\" location\n",
    "plt.legend(loc=\"best\")\n",
    "\n",
    "plt.title(\"Feed vs Food - United States\")\n",
    "plt.xlabel(\"Years\")\n",
    "plt.ylabel(\"Percentage of production\")\n",
    "\n",
    "# Print our chart to the screen\n",
    "plt.savefig(\"Figures/us_ratio.png\")\n",
    "plt.show()\n"
   ]
  },
  {
   "cell_type": "code",
   "execution_count": null,
   "metadata": {},
   "outputs": [],
   "source": []
  },
  {
   "cell_type": "markdown",
   "metadata": {},
   "source": [
    "# DF FOR PLOTING INDIA NUMBERS"
   ]
  },
  {
   "cell_type": "code",
   "execution_count": 15,
   "metadata": {},
   "outputs": [],
   "source": [
    "#filtering by India,\n",
    "df_filtered1=new_index_df.loc[['India']]\n"
   ]
  },
  {
   "cell_type": "code",
   "execution_count": 16,
   "metadata": {},
   "outputs": [],
   "source": [
    "#grouping by element\n",
    "by_element_in=df_filtered1.groupby([\"Element\"]).sum()\n"
   ]
  },
  {
   "cell_type": "code",
   "execution_count": 17,
   "metadata": {},
   "outputs": [],
   "source": [
    "#...Dropping the columns that are not relevant\n",
    "df_element1=by_element_in.drop(columns=['Area Code', 'Item Code', 'Element Code', 'latitude', 'longitude'])\n"
   ]
  },
  {
   "cell_type": "code",
   "execution_count": 18,
   "metadata": {},
   "outputs": [],
   "source": [
    "#transposing the table\n",
    "df_element_in= df_element1.T\n"
   ]
  },
  {
   "cell_type": "code",
   "execution_count": 152,
   "metadata": {},
   "outputs": [
    {
     "data": {
      "text/html": [
       "<div>\n",
       "<style scoped>\n",
       "    .dataframe tbody tr th:only-of-type {\n",
       "        vertical-align: middle;\n",
       "    }\n",
       "\n",
       "    .dataframe tbody tr th {\n",
       "        vertical-align: top;\n",
       "    }\n",
       "\n",
       "    .dataframe thead th {\n",
       "        text-align: right;\n",
       "    }\n",
       "</style>\n",
       "<table border=\"1\" class=\"dataframe\">\n",
       "  <thead>\n",
       "    <tr style=\"text-align: right;\">\n",
       "      <th>Element</th>\n",
       "      <th>Feed</th>\n",
       "      <th>Food</th>\n",
       "      <th>Total</th>\n",
       "      <th>Feed_%</th>\n",
       "      <th>Food_%</th>\n",
       "      <th>Year</th>\n",
       "      <th>Total_bil_ton</th>\n",
       "      <th>Food_mi</th>\n",
       "      <th>Feed_mi</th>\n",
       "    </tr>\n",
       "  </thead>\n",
       "  <tbody>\n",
       "    <tr>\n",
       "      <td>Y1961</td>\n",
       "      <td>15224.0</td>\n",
       "      <td>294341.0</td>\n",
       "      <td>309565.0</td>\n",
       "      <td>0.049179</td>\n",
       "      <td>0.950821</td>\n",
       "      <td>1961</td>\n",
       "      <td>0.309565</td>\n",
       "      <td>0.294341</td>\n",
       "      <td>0.015224</td>\n",
       "    </tr>\n",
       "    <tr>\n",
       "      <td>Y1962</td>\n",
       "      <td>15864.0</td>\n",
       "      <td>302938.0</td>\n",
       "      <td>318802.0</td>\n",
       "      <td>0.049761</td>\n",
       "      <td>0.950239</td>\n",
       "      <td>1962</td>\n",
       "      <td>0.318802</td>\n",
       "      <td>0.302938</td>\n",
       "      <td>0.015864</td>\n",
       "    </tr>\n",
       "    <tr>\n",
       "      <td>Y1963</td>\n",
       "      <td>15510.0</td>\n",
       "      <td>299645.0</td>\n",
       "      <td>315155.0</td>\n",
       "      <td>0.049214</td>\n",
       "      <td>0.950786</td>\n",
       "      <td>1963</td>\n",
       "      <td>0.315155</td>\n",
       "      <td>0.299645</td>\n",
       "      <td>0.015510</td>\n",
       "    </tr>\n",
       "    <tr>\n",
       "      <td>Y1964</td>\n",
       "      <td>15266.0</td>\n",
       "      <td>309298.0</td>\n",
       "      <td>324564.0</td>\n",
       "      <td>0.047035</td>\n",
       "      <td>0.952965</td>\n",
       "      <td>1964</td>\n",
       "      <td>0.324564</td>\n",
       "      <td>0.309298</td>\n",
       "      <td>0.015266</td>\n",
       "    </tr>\n",
       "    <tr>\n",
       "      <td>Y1965</td>\n",
       "      <td>16154.0</td>\n",
       "      <td>311222.0</td>\n",
       "      <td>327376.0</td>\n",
       "      <td>0.049344</td>\n",
       "      <td>0.950656</td>\n",
       "      <td>1965</td>\n",
       "      <td>0.327376</td>\n",
       "      <td>0.311222</td>\n",
       "      <td>0.016154</td>\n",
       "    </tr>\n",
       "  </tbody>\n",
       "</table>\n",
       "</div>"
      ],
      "text/plain": [
       "Element     Feed      Food     Total    Feed_%    Food_%  Year  Total_bil_ton  \\\n",
       "Y1961    15224.0  294341.0  309565.0  0.049179  0.950821  1961       0.309565   \n",
       "Y1962    15864.0  302938.0  318802.0  0.049761  0.950239  1962       0.318802   \n",
       "Y1963    15510.0  299645.0  315155.0  0.049214  0.950786  1963       0.315155   \n",
       "Y1964    15266.0  309298.0  324564.0  0.047035  0.952965  1964       0.324564   \n",
       "Y1965    16154.0  311222.0  327376.0  0.049344  0.950656  1965       0.327376   \n",
       "\n",
       "Element   Food_mi   Feed_mi  \n",
       "Y1961    0.294341  0.015224  \n",
       "Y1962    0.302938  0.015864  \n",
       "Y1963    0.299645  0.015510  \n",
       "Y1964    0.309298  0.015266  \n",
       "Y1965    0.311222  0.016154  "
      ]
     },
     "execution_count": 152,
     "metadata": {},
     "output_type": "execute_result"
    }
   ],
   "source": [
    "#adding relevant columns to plot.\n",
    "df_element_in['Total']=df_element_in['Feed']+df_element_in['Food']\n",
    "df_element_in['Feed_%']=df_element_in['Feed']/df_element_in['Total']\n",
    "df_element_in['Food_%']=df_element_in['Food']/df_element_in['Total']\n",
    "df_element_in['Year']=year\n",
    "df_element_in['Total_bil_ton']=(df_element_in['Total']*1000)/1000000000\n",
    "df_element_in['Food_mi']=df_element_in['Food']/1000000\n",
    "df_element_in['Feed_mi']=df_element_in['Feed']/1000000\n",
    "\n",
    "df_in=pd.DataFrame(df_element_in)\n",
    "df_in.head()\n"
   ]
  },
  {
   "cell_type": "code",
   "execution_count": 153,
   "metadata": {},
   "outputs": [
    {
     "data": {
      "image/png": "[encoded data removed]",
      "text/plain": [
       "<Figure size 432x288 with 1 Axes>"
      ]
     },
     "metadata": {
      "needs_background": "light"
     },
     "output_type": "display_data"
    }
   ],
   "source": [
    "in_x1=df_element_in['Feed_%']\n",
    "in_x2=df_element_in['Food_%']\n",
    "# Plot our line that will be used to track Food for us\n",
    "plt.plot(year, in_x1, color=\"green\", label=\"Feed\")\n",
    "\n",
    "# Plot our line that will be used to track a wrestler's losses over the years\n",
    "plt.plot(year, in_x2, color=\"blue\", label=\"Food\")\n",
    "\n",
    "# Place a legend on the chart in what matplotlib believes to be the \"best\" location\n",
    "plt.legend(loc=\"best\")\n",
    "\n",
    "plt.title(\"Feed vs Food - India\")\n",
    "plt.xlabel(\"Years\")\n",
    "plt.ylabel(\"Percentage of production\")\n",
    "\n",
    "# Print our chart to the screen\n",
    "plt.savefig(\"Figures/in_ratio.png\")\n",
    "plt.show()"
   ]
  },
  {
   "cell_type": "markdown",
   "metadata": {},
   "source": [
    "# DF FOR PLOTING OF GLOBAL DATA"
   ]
  },
  {
   "cell_type": "code",
   "execution_count": 21,
   "metadata": {},
   "outputs": [],
   "source": [
    "#grouping by element(food/feed), Dropping the columns that are not relevant\n",
    "by_element2=new_index_df.groupby([\"Element\"]).sum()\n",
    "df_element2=by_element2.drop(columns=['Area Code', 'Item Code', 'Element Code', 'latitude', 'longitude'])"
   ]
  },
  {
   "cell_type": "code",
   "execution_count": 22,
   "metadata": {},
   "outputs": [],
   "source": [
    "#transposing the table and adding percentage columns\n",
    "df_element_gl= df_element2.T"
   ]
  },
  {
   "cell_type": "code",
   "execution_count": 23,
   "metadata": {},
   "outputs": [
    {
     "data": {
      "text/html": [
       "<div>\n",
       "<style scoped>\n",
       "    .dataframe tbody tr th:only-of-type {\n",
       "        vertical-align: middle;\n",
       "    }\n",
       "\n",
       "    .dataframe tbody tr th {\n",
       "        vertical-align: top;\n",
       "    }\n",
       "\n",
       "    .dataframe thead th {\n",
       "        text-align: right;\n",
       "    }\n",
       "</style>\n",
       "<table border=\"1\" class=\"dataframe\">\n",
       "  <thead>\n",
       "    <tr style=\"text-align: right;\">\n",
       "      <th>Element</th>\n",
       "      <th>Feed</th>\n",
       "      <th>Food</th>\n",
       "      <th>Total</th>\n",
       "      <th>Feed_percent</th>\n",
       "      <th>Food_percent</th>\n",
       "      <th>Year</th>\n",
       "      <th>Total_bil_ton</th>\n",
       "      <th>Food_mi</th>\n",
       "      <th>Feed_mi</th>\n",
       "    </tr>\n",
       "  </thead>\n",
       "  <tbody>\n",
       "    <tr>\n",
       "      <td>Y1961</td>\n",
       "      <td>884314.0</td>\n",
       "      <td>2618297.0</td>\n",
       "      <td>3502611.0</td>\n",
       "      <td>0.252473</td>\n",
       "      <td>0.747527</td>\n",
       "      <td>1961</td>\n",
       "      <td>3.502611</td>\n",
       "      <td>2.618297</td>\n",
       "      <td>0.884314</td>\n",
       "    </tr>\n",
       "    <tr>\n",
       "      <td>Y1962</td>\n",
       "      <td>913198.0</td>\n",
       "      <td>2688434.0</td>\n",
       "      <td>3601632.0</td>\n",
       "      <td>0.253551</td>\n",
       "      <td>0.746449</td>\n",
       "      <td>1962</td>\n",
       "      <td>3.601632</td>\n",
       "      <td>2.688434</td>\n",
       "      <td>0.913198</td>\n",
       "    </tr>\n",
       "    <tr>\n",
       "      <td>Y1963</td>\n",
       "      <td>954852.0</td>\n",
       "      <td>2730772.0</td>\n",
       "      <td>3685624.0</td>\n",
       "      <td>0.259075</td>\n",
       "      <td>0.740925</td>\n",
       "      <td>1963</td>\n",
       "      <td>3.685624</td>\n",
       "      <td>2.730772</td>\n",
       "      <td>0.954852</td>\n",
       "    </tr>\n",
       "    <tr>\n",
       "      <td>Y1964</td>\n",
       "      <td>972294.0</td>\n",
       "      <td>2793351.0</td>\n",
       "      <td>3765645.0</td>\n",
       "      <td>0.258201</td>\n",
       "      <td>0.741799</td>\n",
       "      <td>1964</td>\n",
       "      <td>3.765645</td>\n",
       "      <td>2.793351</td>\n",
       "      <td>0.972294</td>\n",
       "    </tr>\n",
       "    <tr>\n",
       "      <td>Y1965</td>\n",
       "      <td>1006792.0</td>\n",
       "      <td>2895741.0</td>\n",
       "      <td>3902533.0</td>\n",
       "      <td>0.257984</td>\n",
       "      <td>0.742016</td>\n",
       "      <td>1965</td>\n",
       "      <td>3.902533</td>\n",
       "      <td>2.895741</td>\n",
       "      <td>1.006792</td>\n",
       "    </tr>\n",
       "  </tbody>\n",
       "</table>\n",
       "</div>"
      ],
      "text/plain": [
       "Element       Feed       Food      Total  Feed_percent  Food_percent  Year  \\\n",
       "Y1961     884314.0  2618297.0  3502611.0      0.252473      0.747527  1961   \n",
       "Y1962     913198.0  2688434.0  3601632.0      0.253551      0.746449  1962   \n",
       "Y1963     954852.0  2730772.0  3685624.0      0.259075      0.740925  1963   \n",
       "Y1964     972294.0  2793351.0  3765645.0      0.258201      0.741799  1964   \n",
       "Y1965    1006792.0  2895741.0  3902533.0      0.257984      0.742016  1965   \n",
       "\n",
       "Element  Total_bil_ton   Food_mi   Feed_mi  \n",
       "Y1961         3.502611  2.618297  0.884314  \n",
       "Y1962         3.601632  2.688434  0.913198  \n",
       "Y1963         3.685624  2.730772  0.954852  \n",
       "Y1964         3.765645  2.793351  0.972294  \n",
       "Y1965         3.902533  2.895741  1.006792  "
      ]
     },
     "execution_count": 23,
     "metadata": {},
     "output_type": "execute_result"
    }
   ],
   "source": [
    "#adding collumns to plot\n",
    "df_element_gl['Total']=df_element_gl['Feed']+df_element_gl['Food']\n",
    "df_element_gl['Feed_percent']=df_element_gl['Feed']/df_element_gl['Total']\n",
    "df_element_gl['Food_percent']=df_element_gl['Food']/df_element_gl['Total']\n",
    "year=[]\n",
    "for x in range(1961, 2014, 1):\n",
    "  year.append(x)   \n",
    "df_element_gl['Year']=year\n",
    "\n",
    "df_element_gl['Total_bil_ton']=(df_element_gl['Total']*1000)/1000000000\n",
    "df_element_gl['Food_mi']=df_element_gl['Food']/1000000\n",
    "df_element_gl['Total_bil_ton']=(df_element_gl['Total']*1000)/1000000000\n",
    "df_element_gl['Feed_mi']=df_element_gl['Feed']/1000000\n",
    "\n",
    "df_element_gl.head()\n",
    "df_global=pd.DataFrame(df_element_gl)\n",
    "df_global.head()\n"
   ]
  },
  {
   "cell_type": "code",
   "execution_count": 24,
   "metadata": {},
   "outputs": [
    {
     "data": {
      "image/png": "[encoded data removed]",
      "text/plain": [
       "<Figure size 432x288 with 1 Axes>"
      ]
     },
     "metadata": {
      "needs_background": "light"
     },
     "output_type": "display_data"
    }
   ],
   "source": [
    "gl_x1=df_global['Feed_percent']\n",
    "gl_x2=df_global['Food_percent']\n",
    "# Plot our line that will be used to track Food for us\n",
    "plt.plot(year, gl_x1, color=\"green\", label=\"Feed\")\n",
    "\n",
    "# Plot our line that will be used to track a wrestler's losses over the years\n",
    "plt.plot(year, gl_x2, color=\"blue\", label=\"Food\")\n",
    "\n",
    "# Place a legend on the chart in what matplotlib believes to be the \"best\" location\n",
    "plt.legend(loc=\"best\")\n",
    "\n",
    "plt.title(\"Feed vs Food - Global\")\n",
    "plt.xlabel(\"Years\")\n",
    "plt.ylabel(\"Percentage of production\")\n",
    "\n",
    "# Print our chart to the screen\n",
    "plt.savefig(\"Figures/feed_food_ratio.png\")\n",
    "plt.show()"
   ]
  },
  {
   "cell_type": "code",
   "execution_count": 25,
   "metadata": {},
   "outputs": [
    {
     "data": {
      "image/png": "[encoded data removed]",
      "text/plain": [
       "<Figure size 432x288 with 1 Axes>"
      ]
     },
     "metadata": {
      "needs_background": "light"
     },
     "output_type": "display_data"
    }
   ],
   "source": [
    "X=year\n",
    "y=df_element_gl.Total_bil_ton.values\n",
    "\n",
    "\n",
    "# Plot line of agr prod worldwide\n",
    "plt.plot(X, y, marker='|', color=\"green\", label=\"Agr. Production(bill/tons)\")\n",
    "\n",
    "# Place a legend on the chart in what matplotlib believes to be the \"best\" location\n",
    "plt.legend(loc=\"best\")\n",
    "\n",
    "plt.title(\"World Agricultural Production(1961-2013)\", fontsize=16, fontweight=\"bold\")\n",
    "plt.xlabel(\"Years\")\n",
    "plt.ylabel(\"Production\")\n",
    "plt.grid()\n",
    "\n",
    "# Print our chart to the screen\n",
    "plt.savefig(\"Figures/world_agr.png\")\n",
    "plt.show()"
   ]
  },
  {
   "cell_type": "code",
   "execution_count": 73,
   "metadata": {},
   "outputs": [
    {
     "data": {
      "image/png": "[encoded data removed]",
      "text/plain": [
       "<Figure size 432x288 with 1 Axes>"
      ]
     },
     "metadata": {
      "needs_background": "light"
     },
     "output_type": "display_data"
    }
   ],
   "source": [
    "gl_x2=df_global['Feed']\n",
    "\n",
    "# Plot our line that will be used to track a wrestler's losses over the years\n",
    "plt.plot(year, gl_x2, color=\"blue\", label=\"Food\")\n",
    "\n",
    "# Place a legend on the chart in what matplotlib believes to be the \"best\" location\n",
    "plt.legend(loc=\"best\")\n",
    "\n",
    "plt.title(\"Feed vs Food - Global\")\n",
    "plt.xlabel(\"Years\")\n",
    "plt.ylabel(\"Percentage of production\")\n",
    "\n",
    "# Print our chart to the screen\n",
    "plt.show()"
   ]
  },
  {
   "cell_type": "markdown",
   "metadata": {},
   "source": [
    "# Applying linear regression model to Food x Year\n"
   ]
  },
  {
   "cell_type": "code",
   "execution_count": 74,
   "metadata": {},
   "outputs": [
    {
     "data": {
      "text/html": [
       "<div>\n",
       "<style scoped>\n",
       "    .dataframe tbody tr th:only-of-type {\n",
       "        vertical-align: middle;\n",
       "    }\n",
       "\n",
       "    .dataframe tbody tr th {\n",
       "        vertical-align: top;\n",
       "    }\n",
       "\n",
       "    .dataframe thead th {\n",
       "        text-align: right;\n",
       "    }\n",
       "</style>\n",
       "<table border=\"1\" class=\"dataframe\">\n",
       "  <thead>\n",
       "    <tr style=\"text-align: right;\">\n",
       "      <th>Element</th>\n",
       "      <th>Food</th>\n",
       "      <th>Year</th>\n",
       "    </tr>\n",
       "  </thead>\n",
       "  <tbody>\n",
       "    <tr>\n",
       "      <td>Y1961</td>\n",
       "      <td>2618297.0</td>\n",
       "      <td>1961</td>\n",
       "    </tr>\n",
       "    <tr>\n",
       "      <td>Y1962</td>\n",
       "      <td>2688434.0</td>\n",
       "      <td>1962</td>\n",
       "    </tr>\n",
       "    <tr>\n",
       "      <td>Y1963</td>\n",
       "      <td>2730772.0</td>\n",
       "      <td>1963</td>\n",
       "    </tr>\n",
       "    <tr>\n",
       "      <td>Y1964</td>\n",
       "      <td>2793351.0</td>\n",
       "      <td>1964</td>\n",
       "    </tr>\n",
       "    <tr>\n",
       "      <td>Y1965</td>\n",
       "      <td>2895741.0</td>\n",
       "      <td>1965</td>\n",
       "    </tr>\n",
       "  </tbody>\n",
       "</table>\n",
       "</div>"
      ],
      "text/plain": [
       "Element       Food  Year\n",
       "Y1961    2618297.0  1961\n",
       "Y1962    2688434.0  1962\n",
       "Y1963    2730772.0  1963\n",
       "Y1964    2793351.0  1964\n",
       "Y1965    2895741.0  1965"
      ]
     },
     "execution_count": 74,
     "metadata": {},
     "output_type": "execute_result"
    }
   ],
   "source": [
    "gl_food=df_global[['Food', 'Year']].copy()\n",
    "gl_food.head()\n"
   ]
  },
  {
   "cell_type": "code",
   "execution_count": 75,
   "metadata": {},
   "outputs": [
    {
     "data": {
      "text/plain": [
       "<matplotlib.collections.PathCollection at 0x1a1bc267d0>"
      ]
     },
     "execution_count": 75,
     "metadata": {},
     "output_type": "execute_result"
    },
    {
     "data": {
      "image/png": "[encoded data removed]",
      "text/plain": [
       "<Figure size 432x288 with 1 Axes>"
      ]
     },
     "metadata": {
      "needs_background": "light"
     },
     "output_type": "display_data"
    }
   ],
   "source": [
    "X=gl_food['Year']\n",
    "y=gl_food['Food']\n",
    "plt.scatter(X, y)\n"
   ]
  },
  {
   "cell_type": "code",
   "execution_count": 76,
   "metadata": {},
   "outputs": [],
   "source": [
    "X = gl_food.Year.values.reshape(-1, 1)\n",
    "y = gl_food.Food.values.reshape(-1, 1)\n"
   ]
  },
  {
   "cell_type": "code",
   "execution_count": 77,
   "metadata": {},
   "outputs": [
    {
     "data": {
      "text/plain": [
       "LinearRegression(copy_X=True, fit_intercept=True, n_jobs=None, normalize=False)"
      ]
     },
     "execution_count": 77,
     "metadata": {},
     "output_type": "execute_result"
    }
   ],
   "source": [
    "from sklearn.linear_model import LinearRegression\n",
    "model = LinearRegression()\n",
    "model"
   ]
  },
  {
   "cell_type": "code",
   "execution_count": 78,
   "metadata": {},
   "outputs": [
    {
     "name": "stdout",
     "output_type": "stream",
     "text": [
      "LinearRegression(copy_X=True, fit_intercept=True, n_jobs=None, normalize=False)\n"
     ]
    }
   ],
   "source": [
    "model.fit(X, y)\n",
    "print(model)\n"
   ]
  },
  {
   "cell_type": "code",
   "execution_count": 79,
   "metadata": {},
   "outputs": [
    {
     "name": "stdout",
     "output_type": "stream",
     "text": [
      "Weight coefficients:  [[139831.41017578]]\n",
      "y-axis intercept:  [-2.72347364e+08]\n"
     ]
    }
   ],
   "source": [
    "# Print the coefficient and the intercept for the model\n",
    "\n",
    "print('Weight coefficients: ', model.coef_)\n",
    "print('y-axis intercept: ', model.intercept_)\n"
   ]
  },
  {
   "cell_type": "markdown",
   "metadata": {},
   "source": [
    "## Y= 0.81X - 358276.55"
   ]
  },
  {
   "cell_type": "code",
   "execution_count": 80,
   "metadata": {},
   "outputs": [
    {
     "name": "stdout",
     "output_type": "stream",
     "text": [
      "Min X Value: [[1961]]\n",
      "Max X Value: [[2013]]\n"
     ]
    }
   ],
   "source": [
    "x_min = np.array([[X.min()]])\n",
    "x_max = np.array([[X.max()]])\n",
    "print(f\"Min X Value: {x_min}\")\n",
    "print(f\"Max X Value: {x_max}\")\n",
    "\n"
   ]
  },
  {
   "cell_type": "code",
   "execution_count": 81,
   "metadata": {},
   "outputs": [],
   "source": [
    "# Calculate the y_min and y_max using model.predict and x_min and x_max\n",
    "y_min = model.predict(x_min)\n",
    "y_max = model.predict(x_max)\n"
   ]
  },
  {
   "cell_type": "code",
   "execution_count": 82,
   "metadata": {},
   "outputs": [
    {
     "data": {
      "text/plain": [
       "[<matplotlib.lines.Line2D at 0x1a1bc6c150>]"
      ]
     },
     "execution_count": 82,
     "metadata": {},
     "output_type": "execute_result"
    },
    {
     "data": {
      "image/png": "[encoded data removed]",
      "text/plain": [
       "<Figure size 432x288 with 1 Axes>"
      ]
     },
     "metadata": {
      "needs_background": "light"
     },
     "output_type": "display_data"
    }
   ],
   "source": [
    "# Plot X and y using plt.scatter\n",
    "# Plot the model fit line using [x_min[0], x_max[0]], [y_min[0], y_max[0]]\n",
    "plt.scatter(X, y, c='blue')\n",
    "plt.plot([x_min[0], x_max[0]], [y_min[0], y_max[0]], c='red')\n"
   ]
  },
  {
   "cell_type": "code",
   "execution_count": 83,
   "metadata": {},
   "outputs": [
    {
     "name": "stdout",
     "output_type": "stream",
     "text": [
      "[9273096.433236599, 9412927.84341234, 9552759.25358814, 9692590.66376394, 9832422.073939681, 9972253.484115481, 10112084.894291222, 10251916.304467022]\n"
     ]
    }
   ],
   "source": [
    "food_predicted=[]\n",
    "for x in range(2014, 2022, 1):\n",
    "    y=(float(model.coef_)*(x))+(float(model.intercept_))\n",
    "    food_predicted.append(y)   \n",
    "\n",
    "print(food_predicted)\n",
    "\n"
   ]
  },
  {
   "cell_type": "markdown",
   "metadata": {},
   "source": [
    "# Applying linear regression model to Feed x Year"
   ]
  },
  {
   "cell_type": "code",
   "execution_count": 84,
   "metadata": {},
   "outputs": [
    {
     "data": {
      "text/html": [
       "<div>\n",
       "<style scoped>\n",
       "    .dataframe tbody tr th:only-of-type {\n",
       "        vertical-align: middle;\n",
       "    }\n",
       "\n",
       "    .dataframe tbody tr th {\n",
       "        vertical-align: top;\n",
       "    }\n",
       "\n",
       "    .dataframe thead th {\n",
       "        text-align: right;\n",
       "    }\n",
       "</style>\n",
       "<table border=\"1\" class=\"dataframe\">\n",
       "  <thead>\n",
       "    <tr style=\"text-align: right;\">\n",
       "      <th>Element</th>\n",
       "      <th>Feed</th>\n",
       "      <th>Year</th>\n",
       "    </tr>\n",
       "  </thead>\n",
       "  <tbody>\n",
       "    <tr>\n",
       "      <td>Y1961</td>\n",
       "      <td>884314.0</td>\n",
       "      <td>1961</td>\n",
       "    </tr>\n",
       "    <tr>\n",
       "      <td>Y1962</td>\n",
       "      <td>913198.0</td>\n",
       "      <td>1962</td>\n",
       "    </tr>\n",
       "    <tr>\n",
       "      <td>Y1963</td>\n",
       "      <td>954852.0</td>\n",
       "      <td>1963</td>\n",
       "    </tr>\n",
       "    <tr>\n",
       "      <td>Y1964</td>\n",
       "      <td>972294.0</td>\n",
       "      <td>1964</td>\n",
       "    </tr>\n",
       "    <tr>\n",
       "      <td>Y1965</td>\n",
       "      <td>1006792.0</td>\n",
       "      <td>1965</td>\n",
       "    </tr>\n",
       "  </tbody>\n",
       "</table>\n",
       "</div>"
      ],
      "text/plain": [
       "Element       Feed  Year\n",
       "Y1961     884314.0  1961\n",
       "Y1962     913198.0  1962\n",
       "Y1963     954852.0  1963\n",
       "Y1964     972294.0  1964\n",
       "Y1965    1006792.0  1965"
      ]
     },
     "execution_count": 84,
     "metadata": {},
     "output_type": "execute_result"
    }
   ],
   "source": [
    "gl_feed=df_global[[ 'Feed', 'Year']].copy()\n",
    "gl_feed.head()\n"
   ]
  },
  {
   "cell_type": "code",
   "execution_count": 85,
   "metadata": {},
   "outputs": [
    {
     "data": {
      "text/plain": [
       "<matplotlib.axes._subplots.AxesSubplot at 0x1a1bd2e750>"
      ]
     },
     "execution_count": 85,
     "metadata": {},
     "output_type": "execute_result"
    },
    {
     "data": {
      "image/png": "[encoded data removed]",
      "text/plain": [
       "<Figure size 432x288 with 1 Axes>"
      ]
     },
     "metadata": {
      "needs_background": "light"
     },
     "output_type": "display_data"
    }
   ],
   "source": [
    "X=gl_feed['Year']\n",
    "y=gl_feed['Feed']\n",
    "sns.regplot(X,y)\n",
    "\n",
    "#plt.scatter(X, y)\n"
   ]
  },
  {
   "cell_type": "code",
   "execution_count": 86,
   "metadata": {},
   "outputs": [],
   "source": [
    "X = gl_feed.Year.values.reshape(-1, 1)\n",
    "y = gl_feed.Feed.values.reshape(-1, 1)\n"
   ]
  },
  {
   "cell_type": "code",
   "execution_count": 87,
   "metadata": {},
   "outputs": [
    {
     "data": {
      "text/plain": [
       "LinearRegression(copy_X=True, fit_intercept=True, n_jobs=None, normalize=False)"
      ]
     },
     "execution_count": 87,
     "metadata": {},
     "output_type": "execute_result"
    }
   ],
   "source": [
    "from sklearn.linear_model import LinearRegression\n",
    "model = LinearRegression()\n",
    "model\n"
   ]
  },
  {
   "cell_type": "code",
   "execution_count": 88,
   "metadata": {},
   "outputs": [
    {
     "name": "stdout",
     "output_type": "stream",
     "text": [
      "LinearRegression(copy_X=True, fit_intercept=True, n_jobs=None, normalize=False)\n"
     ]
    }
   ],
   "source": [
    "model.fit(X, y)\n",
    "print(model)\n"
   ]
  },
  {
   "cell_type": "code",
   "execution_count": 89,
   "metadata": {},
   "outputs": [
    {
     "name": "stdout",
     "output_type": "stream",
     "text": [
      "Weight coefficients:  [[31049.74600871]]\n",
      "y-axis intercept:  [-60047756.43251089]\n"
     ]
    }
   ],
   "source": [
    "# Print the coefficient and the intercept for the model\n",
    "print('Weight coefficients: ', model.coef_)\n",
    "print('y-axis intercept: ', model.intercept_)\n"
   ]
  },
  {
   "cell_type": "markdown",
   "metadata": {},
   "source": [
    "## Y= 0.18X + 358276"
   ]
  },
  {
   "cell_type": "code",
   "execution_count": 90,
   "metadata": {},
   "outputs": [
    {
     "name": "stdout",
     "output_type": "stream",
     "text": [
      "True output: [884314.]\n",
      "Predicted output: [840795.49056603]\n",
      "Prediction Error: [-43518.50943397]\n"
     ]
    }
   ],
   "source": [
    "#using model to make predictions\n",
    "predictions = model.predict(X)\n",
    "print(f\"True output: {y[0]}\")\n",
    "print(f\"Predicted output: {predictions[0]}\")\n",
    "print(f\"Prediction Error: {predictions[0]-y[0]}\")\n"
   ]
  },
  {
   "cell_type": "code",
   "execution_count": 91,
   "metadata": {},
   "outputs": [
    {
     "data": {
      "text/html": [
       "<div>\n",
       "<style scoped>\n",
       "    .dataframe tbody tr th:only-of-type {\n",
       "        vertical-align: middle;\n",
       "    }\n",
       "\n",
       "    .dataframe tbody tr th {\n",
       "        vertical-align: top;\n",
       "    }\n",
       "\n",
       "    .dataframe thead th {\n",
       "        text-align: right;\n",
       "    }\n",
       "</style>\n",
       "<table border=\"1\" class=\"dataframe\">\n",
       "  <thead>\n",
       "    <tr style=\"text-align: right;\">\n",
       "      <th></th>\n",
       "      <th>Prediction</th>\n",
       "      <th>Actual</th>\n",
       "      <th>Eroor</th>\n",
       "    </tr>\n",
       "  </thead>\n",
       "  <tbody>\n",
       "    <tr>\n",
       "      <td>0</td>\n",
       "      <td>840795.490566</td>\n",
       "      <td>884314.0</td>\n",
       "      <td>-43518.509434</td>\n",
       "    </tr>\n",
       "    <tr>\n",
       "      <td>1</td>\n",
       "      <td>871845.236575</td>\n",
       "      <td>913198.0</td>\n",
       "      <td>-41352.763425</td>\n",
       "    </tr>\n",
       "    <tr>\n",
       "      <td>2</td>\n",
       "      <td>902894.982583</td>\n",
       "      <td>954852.0</td>\n",
       "      <td>-51957.017417</td>\n",
       "    </tr>\n",
       "    <tr>\n",
       "      <td>3</td>\n",
       "      <td>933944.728592</td>\n",
       "      <td>972294.0</td>\n",
       "      <td>-38349.271408</td>\n",
       "    </tr>\n",
       "    <tr>\n",
       "      <td>4</td>\n",
       "      <td>964994.474601</td>\n",
       "      <td>1006792.0</td>\n",
       "      <td>-41797.525399</td>\n",
       "    </tr>\n",
       "  </tbody>\n",
       "</table>\n",
       "</div>"
      ],
      "text/plain": [
       "      Prediction     Actual         Eroor\n",
       "0  840795.490566   884314.0 -43518.509434\n",
       "1  871845.236575   913198.0 -41352.763425\n",
       "2  902894.982583   954852.0 -51957.017417\n",
       "3  933944.728592   972294.0 -38349.271408\n",
       "4  964994.474601  1006792.0 -41797.525399"
      ]
     },
     "execution_count": 91,
     "metadata": {},
     "output_type": "execute_result"
    }
   ],
   "source": [
    "#\"Actual\": y, \"Error\": predictions - y})[[\"Predicted\", \"Actual\", \"Error\"]]\n",
    "table=pd.DataFrame(predictions)\n",
    "table[\"Actual\"]=y\n",
    "table[\"Eroor\"]=predictions-y\n",
    "table.rename(columns={0: \"Prediction\"}, inplace=True)\n",
    "table.head()\n"
   ]
  },
  {
   "cell_type": "markdown",
   "metadata": {},
   "source": [
    "# PLOTING TOTAL CROP PRODUCTION AGAINST POPULATION"
   ]
  },
  {
   "cell_type": "code",
   "execution_count": 92,
   "metadata": {
    "scrolled": true
   },
   "outputs": [
    {
     "name": "stderr",
     "output_type": "stream",
     "text": [
      "No handles with labels found to put in legend.\n"
     ]
    },
    {
     "data": {
      "image/png": "[encoded data removed]",
      "text/plain": [
       "<Figure size 432x288 with 1 Axes>"
      ]
     },
     "metadata": {
      "needs_background": "light"
     },
     "output_type": "display_data"
    }
   ],
   "source": [
    "X=total_pop.Population_bi.values\n",
    "y=df_element_gl.Total_bil_ton.values\n",
    "\n",
    "\n",
    "# Plot line of agr prod worldwide\n",
    "plt.plot(X, y, marker='|', color=\"red\")\n",
    "\n",
    "# Place a legend on the chart in what matplotlib believes to be the \"best\" location\n",
    "plt.legend(loc=\"best\")\n",
    "\n",
    "plt.title(\"World Population X Agriculture (1961-2013)\", fontsize=16, fontweight=\"bold\")\n",
    "plt.xlabel(\"Population\")\n",
    "plt.ylabel(\"Agriculture\")\n",
    "plt.grid()\n",
    "\n",
    "# Print our chart to the screen\n",
    "plt.savefig(\"Figures/world_pop_agr.png\")\n",
    "plt.show()"
   ]
  },
  {
   "cell_type": "markdown",
   "metadata": {},
   "source": [
    "random forest regression / decision tree"
   ]
  },
  {
   "cell_type": "code",
   "execution_count": 93,
   "metadata": {},
   "outputs": [],
   "source": [
    "X=total_pop.Population_bi.values.reshape(-1, 1)\n",
    "y=df_global.Total_bil_ton.values.reshape(-1, 1)"
   ]
  },
  {
   "cell_type": "code",
   "execution_count": 94,
   "metadata": {},
   "outputs": [
    {
     "data": {
      "text/plain": [
       "(53, 1)"
      ]
     },
     "execution_count": 94,
     "metadata": {},
     "output_type": "execute_result"
    }
   ],
   "source": [
    "X.shape"
   ]
  },
  {
   "cell_type": "code",
   "execution_count": 95,
   "metadata": {},
   "outputs": [
    {
     "data": {
      "text/plain": [
       "(53, 1)"
      ]
     },
     "execution_count": 95,
     "metadata": {},
     "output_type": "execute_result"
    }
   ],
   "source": [
    "y.shape"
   ]
  },
  {
   "cell_type": "code",
   "execution_count": 96,
   "metadata": {},
   "outputs": [
    {
     "data": {
      "text/plain": [
       "LinearRegression(copy_X=True, fit_intercept=True, n_jobs=None, normalize=False)"
      ]
     },
     "execution_count": 96,
     "metadata": {},
     "output_type": "execute_result"
    }
   ],
   "source": [
    "# Import dependencies\n",
    "from sklearn.datasets import make_regression\n",
    "from sklearn.linear_model import LinearRegression\n",
    "\n",
    "# Create a linear model\n",
    "model = LinearRegression()\n",
    "\n",
    "# Fit (Train) our model to the data\n",
    "model.fit(X, y)"
   ]
  },
  {
   "cell_type": "code",
   "execution_count": 97,
   "metadata": {},
   "outputs": [
    {
     "name": "stdout",
     "output_type": "stream",
     "text": [
      "Mean Squared Error (MSE): 0.15790013253298468\n",
      "R-squared (R2 ): 0.9775749577913185\n"
     ]
    }
   ],
   "source": [
    "from sklearn.metrics import mean_squared_error, r2_score\n",
    "\n",
    "# Use our model to predict a value\n",
    "predicted = model.predict(X)\n",
    "\n",
    "# Score the prediction with mse and r2\n",
    "mse = mean_squared_error(y, predicted)\n",
    "r2 = r2_score(y, predicted)\n",
    "\n",
    "print(f\"Mean Squared Error (MSE): {mse}\")\n",
    "print(f\"R-squared (R2 ): {r2}\")"
   ]
  },
  {
   "cell_type": "code",
   "execution_count": 98,
   "metadata": {},
   "outputs": [
    {
     "data": {
      "text/plain": [
       "0.9775749577913185"
      ]
     },
     "execution_count": 98,
     "metadata": {},
     "output_type": "execute_result"
    }
   ],
   "source": [
    "model.score(X, y)"
   ]
  },
  {
   "cell_type": "code",
   "execution_count": 99,
   "metadata": {},
   "outputs": [],
   "source": [
    "from sklearn.model_selection import train_test_split\n",
    "\n",
    "X_train, X_test, y_train, y_test = train_test_split(X, y, random_state=42)"
   ]
  },
  {
   "cell_type": "code",
   "execution_count": 100,
   "metadata": {},
   "outputs": [
    {
     "data": {
      "text/plain": [
       "LinearRegression(copy_X=True, fit_intercept=True, n_jobs=None, normalize=False)"
      ]
     },
     "execution_count": 100,
     "metadata": {},
     "output_type": "execute_result"
    }
   ],
   "source": [
    "model.fit(X_train, y_train)"
   ]
  },
  {
   "cell_type": "code",
   "execution_count": 101,
   "metadata": {},
   "outputs": [
    {
     "data": {
      "text/plain": [
       "0.9743795368570504"
      ]
     },
     "execution_count": 101,
     "metadata": {},
     "output_type": "execute_result"
    }
   ],
   "source": [
    "model.score(X_train, y_train)"
   ]
  },
  {
   "cell_type": "code",
   "execution_count": 102,
   "metadata": {},
   "outputs": [
    {
     "name": "stdout",
     "output_type": "stream",
     "text": [
      "Weight coefficients:  [[2.1346904]]\n",
      "y-axis intercept:  [-3.69657832]\n"
     ]
    }
   ],
   "source": [
    "# Print the coefficient and the intercept for the model\n",
    "\n",
    "print('Weight coefficients: ', model.coef_)\n",
    "print('y-axis intercept: ', model.intercept_)"
   ]
  },
  {
   "cell_type": "code",
   "execution_count": 103,
   "metadata": {},
   "outputs": [
    {
     "data": {
      "text/plain": [
       "0.9836414483641145"
      ]
     },
     "execution_count": 103,
     "metadata": {},
     "output_type": "execute_result"
    }
   ],
   "source": [
    "model.score(X_test, y_test)"
   ]
  },
  {
   "cell_type": "code",
   "execution_count": 104,
   "metadata": {},
   "outputs": [
    {
     "name": "stdout",
     "output_type": "stream",
     "text": [
      "Weight coefficients:  [[2.1346904]]\n",
      "y-axis intercept:  [-3.69657832]\n"
     ]
    }
   ],
   "source": [
    "# Print the coefficient and the intercept for the model\n",
    "\n",
    "print('Weight coefficients: ', model.coef_)\n",
    "print('y-axis intercept: ', model.intercept_)"
   ]
  },
  {
   "cell_type": "code",
   "execution_count": 105,
   "metadata": {},
   "outputs": [
    {
     "name": "stdout",
     "output_type": "stream",
     "text": [
      "True output: [3.502611]\n",
      "Predicted output: [840795.49056603]\n",
      "Prediction Error: [840791.98795503]\n"
     ]
    }
   ],
   "source": [
    "pred = model.predict(X)\n",
    "print(f\"True output: {y[0]}\")\n",
    "print(f\"Predicted output: {predictions[0]}\")\n",
    "print(f\"Prediction Error: {predictions[0]-y[0]}\")"
   ]
  },
  {
   "cell_type": "code",
   "execution_count": 106,
   "metadata": {},
   "outputs": [
    {
     "data": {
      "text/html": [
       "<div>\n",
       "<style scoped>\n",
       "    .dataframe tbody tr th:only-of-type {\n",
       "        vertical-align: middle;\n",
       "    }\n",
       "\n",
       "    .dataframe tbody tr th {\n",
       "        vertical-align: top;\n",
       "    }\n",
       "\n",
       "    .dataframe thead th {\n",
       "        text-align: right;\n",
       "    }\n",
       "</style>\n",
       "<table border=\"1\" class=\"dataframe\">\n",
       "  <thead>\n",
       "    <tr style=\"text-align: right;\">\n",
       "      <th></th>\n",
       "      <th>Prediction</th>\n",
       "      <th>Actual</th>\n",
       "      <th>Error</th>\n",
       "    </tr>\n",
       "  </thead>\n",
       "  <tbody>\n",
       "    <tr>\n",
       "      <td>0</td>\n",
       "      <td>840795.490566</td>\n",
       "      <td>3.502611</td>\n",
       "      <td>840791.987955</td>\n",
       "    </tr>\n",
       "    <tr>\n",
       "      <td>1</td>\n",
       "      <td>871845.236575</td>\n",
       "      <td>3.601632</td>\n",
       "      <td>871841.634943</td>\n",
       "    </tr>\n",
       "    <tr>\n",
       "      <td>2</td>\n",
       "      <td>902894.982583</td>\n",
       "      <td>3.685624</td>\n",
       "      <td>902891.296959</td>\n",
       "    </tr>\n",
       "    <tr>\n",
       "      <td>3</td>\n",
       "      <td>933944.728592</td>\n",
       "      <td>3.765645</td>\n",
       "      <td>933940.962947</td>\n",
       "    </tr>\n",
       "    <tr>\n",
       "      <td>4</td>\n",
       "      <td>964994.474601</td>\n",
       "      <td>3.902533</td>\n",
       "      <td>964990.572068</td>\n",
       "    </tr>\n",
       "  </tbody>\n",
       "</table>\n",
       "</div>"
      ],
      "text/plain": [
       "      Prediction    Actual          Error\n",
       "0  840795.490566  3.502611  840791.987955\n",
       "1  871845.236575  3.601632  871841.634943\n",
       "2  902894.982583  3.685624  902891.296959\n",
       "3  933944.728592  3.765645  933940.962947\n",
       "4  964994.474601  3.902533  964990.572068"
      ]
     },
     "execution_count": 106,
     "metadata": {},
     "output_type": "execute_result"
    }
   ],
   "source": [
    "table=pd.DataFrame(predictions)\n",
    "table[\"Actual\"]=y\n",
    "table[\"Error\"]=predictions-y\n",
    "table.rename(columns={0: \"Prediction\"}, inplace=True)\n",
    "table.head()\n",
    "                "
   ]
  },
  {
   "cell_type": "code",
   "execution_count": 107,
   "metadata": {},
   "outputs": [
    {
     "data": {
      "text/plain": [
       "1648081.741055203"
      ]
     },
     "execution_count": 107,
     "metadata": {},
     "output_type": "execute_result"
    }
   ],
   "source": [
    "table[\"Error\"].mean()"
   ]
  },
  {
   "cell_type": "code",
   "execution_count": 108,
   "metadata": {},
   "outputs": [],
   "source": [
    "# Ploting model fitting"
   ]
  },
  {
   "cell_type": "code",
   "execution_count": 109,
   "metadata": {},
   "outputs": [],
   "source": [
    "x_min= X_train.min()\n",
    "x_max = X_train.max()"
   ]
  },
  {
   "cell_type": "code",
   "execution_count": 110,
   "metadata": {},
   "outputs": [],
   "source": [
    "y_min_actual = y.min()\n",
    "y_max_actual = y.max()"
   ]
  },
  {
   "cell_type": "code",
   "execution_count": 111,
   "metadata": {},
   "outputs": [
    {
     "name": "stdout",
     "output_type": "stream",
     "text": [
      "Actual Min Value: 3.502611\n",
      "Calculated Min Value: 2.864112100465156\n",
      "Actual Max Value: 12.361248\n",
      "Calculated Max Value: 11.641339752934735\n"
     ]
    }
   ],
   "source": [
    "y_min = -3.69657832 + 2.1346904 * x_min\n",
    "y_max = -3.69657832 + 2.13469044 * x_max\n",
    "print(f\"Actual Min Value: {y_min_actual}\")\n",
    "print(f\"Calculated Min Value: {y_min}\")\n",
    "print(f\"Actual Max Value: {y_max_actual}\")\n",
    "print(f\"Calculated Max Value: {y_max}\")"
   ]
  },
  {
   "cell_type": "code",
   "execution_count": null,
   "metadata": {},
   "outputs": [],
   "source": [
    "plt.scatter(X, y, marker='|' , c='red', label=\"Actual\")\n",
    "plt.plot([x_min, x_max], [y_min, y_max], marker='|' , c='grey', label=\"Prediction\")\n",
    "\n",
    "\n",
    "# Place a legend on the chart in what matplotlib believes to be the \"best\" location\n",
    "plt.legend(loc=\"best\")\n",
    "\n",
    "plt.title(\"World Population X Agriculture(Model Fitting)\", fontsize=16, fontweight=\"bold\")\n",
    "plt.xlabel(\"Population\")\n",
    "plt.ylabel(\"Agriculture\")\n",
    "plt.grid()\n",
    "\n",
    "# Print our chart to the screen\n",
    "plt.savefig(\"Figures/world_pop_agr_precision.png\")\n",
    "plt.show()"
   ]
  },
  {
   "cell_type": "markdown",
   "metadata": {},
   "source": [
    "#  ======Ploting prediction 1960 to 2040========"
   ]
  },
  {
   "cell_type": "code",
   "execution_count": null,
   "metadata": {},
   "outputs": [],
   "source": [
    "X_new=[7.295290765, 7.379797139, 7.464022049, 7.547858925, 7.631091248, 7.713468100, 7.794798739, 7.874965825, 7.953952567, 8.031800429, 8.108605388, 8.184437460, 8.259276737, 8.333087316, 8.405863295, 8.477660693, 8.548487400, 8.618349489, 8.687227850, 8.755083431, 8.821562661, 8.887524213, 8.952048940, 9.015437653, 9.138828468, 9.198847240]"
   ]
  },
  {
   "cell_type": "code",
   "execution_count": null,
   "metadata": {},
   "outputs": [],
   "source": [
    "X_fut=pd.DataFrame(X_new)"
   ]
  },
  {
   "cell_type": "code",
   "execution_count": null,
   "metadata": {},
   "outputs": [],
   "source": [
    "X_fut.shape"
   ]
  },
  {
   "cell_type": "code",
   "execution_count": null,
   "metadata": {},
   "outputs": [],
   "source": [
    "pred = model.predict(X_fut)"
   ]
  },
  {
   "cell_type": "code",
   "execution_count": null,
   "metadata": {},
   "outputs": [],
   "source": [
    "x_min_pred= X_fut.min()\n",
    "x_max_pred = X_fut.max()"
   ]
  },
  {
   "cell_type": "code",
   "execution_count": null,
   "metadata": {},
   "outputs": [],
   "source": [
    "y_min_pred = -3.69657832 + 2.1346904 * x_min_pred\n",
    "y_max_pred = -3.69657832 + 2.13469044 * x_max_pred"
   ]
  },
  {
   "cell_type": "code",
   "execution_count": null,
   "metadata": {},
   "outputs": [],
   "source": [
    "plt.scatter(X, y, marker='|' , c='red', label=\"Actual\")\n",
    "plt.plot(X_fut, pred, marker='|' , c='grey', label=\"Prediction\")\n",
    "\n",
    "\n",
    "\n",
    "# Place a legend on the chart in what matplotlib believes to be the \"best\" location\n",
    "plt.legend(loc=\"best\")\n",
    "\n",
    "plt.title(\"World Agriculture Prediction(1960 to 2040)\", fontsize=16, fontweight=\"bold\")\n",
    "plt.xlabel(\"Population\")\n",
    "plt.ylabel(\"Agriculture\")\n",
    "plt.grid()\n",
    "\n",
    "# Print our chart to the screen\n",
    "plt.savefig(\"Figures/world_pop_agr_predict.png\")\n",
    "plt.show()"
   ]
  },
  {
   "cell_type": "markdown",
   "metadata": {},
   "source": [
    "#  FOOD AND POPULATION"
   ]
  },
  {
   "cell_type": "code",
   "execution_count": 28,
   "metadata": {},
   "outputs": [
    {
     "name": "stderr",
     "output_type": "stream",
     "text": [
      "No handles with labels found to put in legend.\n"
     ]
    },
    {
     "data": {
      "image/png": "[encoded data removed]",
      "text/plain": [
       "<Figure size 432x288 with 1 Axes>"
      ]
     },
     "metadata": {
      "needs_background": "light"
     },
     "output_type": "display_data"
    }
   ],
   "source": [
    "X=total_pop.Population_bi.values\n",
    "y=df_global.Food_mi.values\n",
    "\n",
    "\n",
    "# Plot line of agr prod worldwide\n",
    "plt.plot(X, y, marker='|', color=\"blue\")\n",
    "\n",
    "# Place a legend on the chart in what matplotlib believes to be the \"best\" location\n",
    "plt.legend(loc=\"best\")\n",
    "\n",
    "plt.title(\"World Population X FOOD (1961-2013)\", fontsize=16, fontweight=\"bold\")\n",
    "plt.xlabel(\"Population\")\n",
    "plt.ylabel(\"FOOD(mi/tons)\")\n",
    "plt.grid()\n",
    "\n",
    "# Print our chart to the screen\n",
    "plt.savefig(\"Figures/FOODVSPOP.png\")\n",
    "plt.show()"
   ]
  },
  {
   "cell_type": "code",
   "execution_count": 29,
   "metadata": {},
   "outputs": [],
   "source": [
    "X=total_pop.Population_bi.values.reshape(-1, 1)\n",
    "y=df_global.Food_mi.values.reshape(-1, 1)"
   ]
  },
  {
   "cell_type": "code",
   "execution_count": 30,
   "metadata": {},
   "outputs": [
    {
     "data": {
      "text/plain": [
       "LinearRegression(copy_X=True, fit_intercept=True, n_jobs=None, normalize=False)"
      ]
     },
     "execution_count": 30,
     "metadata": {},
     "output_type": "execute_result"
    }
   ],
   "source": [
    "# Import dependencies\n",
    "from sklearn.datasets import make_regression\n",
    "from sklearn.linear_model import LinearRegression\n",
    "\n",
    "# Create a linear model\n",
    "model = LinearRegression()\n",
    "\n",
    "# Fit (Train) our model to the data\n",
    "model.fit(X, y)"
   ]
  },
  {
   "cell_type": "code",
   "execution_count": 31,
   "metadata": {},
   "outputs": [
    {
     "name": "stdout",
     "output_type": "stream",
     "text": [
      "Mean Squared Error (MSE): 0.12068872581173219\n",
      "R-squared (R2 ): 0.9745000510749685\n"
     ]
    }
   ],
   "source": [
    "from sklearn.metrics import mean_squared_error, r2_score\n",
    "\n",
    "# Use our model to predict a value\n",
    "predicted = model.predict(X)\n",
    "\n",
    "# Score the prediction with mse and r2\n",
    "mse = mean_squared_error(y, predicted)\n",
    "r2 = r2_score(y, predicted)\n",
    "\n",
    "print(f\"Mean Squared Error (MSE): {mse}\")\n",
    "print(f\"R-squared (R2 ): {r2}\")"
   ]
  },
  {
   "cell_type": "code",
   "execution_count": 32,
   "metadata": {},
   "outputs": [
    {
     "data": {
      "text/plain": [
       "0.9745000510749685"
      ]
     },
     "execution_count": 32,
     "metadata": {},
     "output_type": "execute_result"
    }
   ],
   "source": [
    "model.score(X, y)"
   ]
  },
  {
   "cell_type": "code",
   "execution_count": 33,
   "metadata": {},
   "outputs": [],
   "source": [
    "from sklearn.model_selection import train_test_split\n",
    "\n",
    "X_train, X_test, y_train, y_test = train_test_split(X, y, random_state=42)"
   ]
  },
  {
   "cell_type": "code",
   "execution_count": 34,
   "metadata": {},
   "outputs": [
    {
     "data": {
      "text/plain": [
       "LinearRegression(copy_X=True, fit_intercept=True, n_jobs=None, normalize=False)"
      ]
     },
     "execution_count": 34,
     "metadata": {},
     "output_type": "execute_result"
    }
   ],
   "source": [
    "model.fit(X_train, y_train)"
   ]
  },
  {
   "cell_type": "code",
   "execution_count": 35,
   "metadata": {},
   "outputs": [
    {
     "name": "stdout",
     "output_type": "stream",
     "text": [
      "Weight coefficients:  [[1.74980349]]\n",
      "y-axis intercept:  [-3.38558816]\n"
     ]
    }
   ],
   "source": [
    "print('Weight coefficients: ', model.coef_)\n",
    "print('y-axis intercept: ', model.intercept_)"
   ]
  },
  {
   "cell_type": "code",
   "execution_count": 36,
   "metadata": {},
   "outputs": [
    {
     "name": "stdout",
     "output_type": "stream",
     "text": [
      "True output: [2.618297]\n",
      "Predicted output: [1.99220291]\n",
      "Prediction Error: [-0.62609409]\n"
     ]
    }
   ],
   "source": [
    "predictions = model.predict(X)\n",
    "print(f\"True output: {y[0]}\")\n",
    "print(f\"Predicted output: {predictions[0]}\")\n",
    "print(f\"Prediction Error: {predictions[0]-y[0]}\")"
   ]
  },
  {
   "cell_type": "code",
   "execution_count": 37,
   "metadata": {},
   "outputs": [
    {
     "data": {
      "text/html": [
       "<div>\n",
       "<style scoped>\n",
       "    .dataframe tbody tr th:only-of-type {\n",
       "        vertical-align: middle;\n",
       "    }\n",
       "\n",
       "    .dataframe tbody tr th {\n",
       "        vertical-align: top;\n",
       "    }\n",
       "\n",
       "    .dataframe thead th {\n",
       "        text-align: right;\n",
       "    }\n",
       "</style>\n",
       "<table border=\"1\" class=\"dataframe\">\n",
       "  <thead>\n",
       "    <tr style=\"text-align: right;\">\n",
       "      <th></th>\n",
       "      <th>Prediction</th>\n",
       "      <th>Actual</th>\n",
       "      <th>Error</th>\n",
       "    </tr>\n",
       "  </thead>\n",
       "  <tbody>\n",
       "    <tr>\n",
       "      <td>0</td>\n",
       "      <td>1.992203</td>\n",
       "      <td>2.618297</td>\n",
       "      <td>-0.626094</td>\n",
       "    </tr>\n",
       "    <tr>\n",
       "      <td>1</td>\n",
       "      <td>2.085190</td>\n",
       "      <td>2.688434</td>\n",
       "      <td>-0.603244</td>\n",
       "    </tr>\n",
       "    <tr>\n",
       "      <td>2</td>\n",
       "      <td>2.199411</td>\n",
       "      <td>2.730772</td>\n",
       "      <td>-0.531361</td>\n",
       "    </tr>\n",
       "    <tr>\n",
       "      <td>3</td>\n",
       "      <td>2.314326</td>\n",
       "      <td>2.793351</td>\n",
       "      <td>-0.479025</td>\n",
       "    </tr>\n",
       "    <tr>\n",
       "      <td>4</td>\n",
       "      <td>2.431713</td>\n",
       "      <td>2.895741</td>\n",
       "      <td>-0.464028</td>\n",
       "    </tr>\n",
       "  </tbody>\n",
       "</table>\n",
       "</div>"
      ],
      "text/plain": [
       "   Prediction    Actual     Error\n",
       "0    1.992203  2.618297 -0.626094\n",
       "1    2.085190  2.688434 -0.603244\n",
       "2    2.199411  2.730772 -0.531361\n",
       "3    2.314326  2.793351 -0.479025\n",
       "4    2.431713  2.895741 -0.464028"
      ]
     },
     "execution_count": 37,
     "metadata": {},
     "output_type": "execute_result"
    }
   ],
   "source": [
    "table=pd.DataFrame(predictions)\n",
    "table[\"Actual\"]=y\n",
    "table[\"Error\"]=predictions-y\n",
    "table.rename(columns={0: \"Prediction\"}, inplace=True)\n",
    "table.head()\n",
    "              "
   ]
  },
  {
   "cell_type": "code",
   "execution_count": 38,
   "metadata": {},
   "outputs": [],
   "source": [
    "x_min= X_train.min()\n",
    "x_max = X_train.max()"
   ]
  },
  {
   "cell_type": "code",
   "execution_count": 39,
   "metadata": {},
   "outputs": [],
   "source": [
    "y_min_actual = y.min()\n",
    "y_max_actual = y.max()"
   ]
  },
  {
   "cell_type": "code",
   "execution_count": 40,
   "metadata": {},
   "outputs": [
    {
     "name": "stdout",
     "output_type": "stream",
     "text": [
      "Actual Min Value: 2.618297\n",
      "Calculated Min Value: 1.9922029213387722\n",
      "Actual Max Value: 9.752737\n",
      "Calculated Max Value: 9.186887019752653\n"
     ]
    }
   ],
   "source": [
    "y_min = -3.38558816 + 1.74980349 * x_min\n",
    "y_max = -3.38558816 + 1.74980349 * x_max\n",
    "print(f\"Actual Min Value: {y_min_actual}\")\n",
    "print(f\"Calculated Min Value: {y_min}\")\n",
    "print(f\"Actual Max Value: {y_max_actual}\")\n",
    "print(f\"Calculated Max Value: {y_max}\")"
   ]
  },
  {
   "cell_type": "code",
   "execution_count": 46,
   "metadata": {},
   "outputs": [
    {
     "data": {
      "image/png": "[encoded data removed]",
      "text/plain": [
       "<Figure size 432x288 with 1 Axes>"
      ]
     },
     "metadata": {
      "needs_background": "light"
     },
     "output_type": "display_data"
    }
   ],
   "source": [
    "plt.scatter(X, y, marker='|' , c='red', label=\"Actual\")\n",
    "plt.plot([x_min, x_max], [y_min, y_max], marker='|' , c='grey', label=\"Prediction\")\n",
    "\n",
    "\n",
    "# Place a legend on the chart in what matplotlib believes to be the \"best\" location\n",
    "plt.legend(loc=\"best\")\n",
    "\n",
    "plt.title(\"World FOOD X Population(Fitting)\", fontsize=16, fontweight=\"bold\")\n",
    "plt.xlabel(\"Population\")\n",
    "plt.ylabel(\"FOOD\")\n",
    "plt.grid()\n",
    "\n",
    "# Print our chart to the screen\n",
    "plt.savefig(\"Figures/world_food_fit.png\")\n",
    "plt.show()"
   ]
  },
  {
   "cell_type": "code",
   "execution_count": 47,
   "metadata": {},
   "outputs": [],
   "source": [
    "X_new=[7.295290765, 7.379797139, 7.464022049, 7.547858925, 7.631091248, 7.713468100, 7.794798739, 7.874965825, 7.953952567, 8.031800429, 8.108605388, 8.184437460, 8.259276737, 8.333087316, 8.405863295, 8.477660693, 8.548487400, 8.618349489, 8.687227850, 8.755083431, 8.821562661, 8.887524213, 8.952048940, 9.015437653, 9.138828468, 9.198847240]"
   ]
  },
  {
   "cell_type": "code",
   "execution_count": 48,
   "metadata": {},
   "outputs": [],
   "source": [
    "X_fut=pd.DataFrame(X_new)"
   ]
  },
  {
   "cell_type": "code",
   "execution_count": 49,
   "metadata": {},
   "outputs": [],
   "source": [
    "pred = model.predict(X_fut)"
   ]
  },
  {
   "cell_type": "code",
   "execution_count": 50,
   "metadata": {},
   "outputs": [],
   "source": [
    "x_min_pred= X_fut.min()\n",
    "x_max_pred = X_fut.max()"
   ]
  },
  {
   "cell_type": "code",
   "execution_count": 52,
   "metadata": {},
   "outputs": [
    {
     "data": {
      "image/png": "[encoded data removed]",
      "text/plain": [
       "<Figure size 432x288 with 1 Axes>"
      ]
     },
     "metadata": {
      "needs_background": "light"
     },
     "output_type": "display_data"
    }
   ],
   "source": [
    "plt.scatter(X, y, marker='|' , c='red', label=\"Actual\")\n",
    "plt.plot(X_fut, pred, marker='|' , c='grey', label=\"Prediction\")\n",
    "\n",
    "\n",
    "\n",
    "# Place a legend on the chart in what matplotlib believes to be the \"best\" location\n",
    "plt.legend(loc=\"best\")\n",
    "\n",
    "plt.title(\"World FOOD prediction(1960 to 2040)\", fontsize=16, fontweight=\"bold\")\n",
    "plt.xlabel(\"Population\")\n",
    "plt.ylabel(\"FOOD\")\n",
    "plt.grid()\n",
    "\n",
    "# Print our chart to the screen\n",
    "plt.savefig(\"Figures/world_FOODpredict.png\")\n",
    "plt.show()"
   ]
  },
  {
   "cell_type": "markdown",
   "metadata": {},
   "source": [
    "#  FEED AND POPULATION"
   ]
  },
  {
   "cell_type": "code",
   "execution_count": 53,
   "metadata": {},
   "outputs": [
    {
     "name": "stderr",
     "output_type": "stream",
     "text": [
      "No handles with labels found to put in legend.\n"
     ]
    },
    {
     "data": {
      "image/png": "[encoded data removed]",
      "text/plain": [
       "<Figure size 432x288 with 1 Axes>"
      ]
     },
     "metadata": {
      "needs_background": "light"
     },
     "output_type": "display_data"
    }
   ],
   "source": [
    "X=total_pop.Population_bi.values\n",
    "y=df_global.Feed_mi.values\n",
    "\n",
    "\n",
    "# Plot line of agr prod worldwide\n",
    "plt.plot(X, y, marker='|', color=\"green\")\n",
    "\n",
    "# Place a legend on the chart in what matplotlib believes to be the \"best\" location\n",
    "plt.legend(loc=\"best\")\n",
    "\n",
    "plt.title(\"World Population X FEED (1961-2013)\", fontsize=16, fontweight=\"bold\")\n",
    "plt.xlabel(\"Population\")\n",
    "plt.ylabel(\"FEED(mi/tons)\")\n",
    "plt.grid()\n",
    "\n",
    "# Print our chart to the screen\n",
    "plt.savefig(\"Figures/FEEDVSPOP.png\")\n",
    "plt.show()"
   ]
  },
  {
   "cell_type": "code",
   "execution_count": 54,
   "metadata": {},
   "outputs": [],
   "source": [
    "X=total_pop.Population_bi.values.reshape(-1, 1)\n",
    "y=df_global.Feed_mi.values.reshape(-1, 1)"
   ]
  },
  {
   "cell_type": "code",
   "execution_count": 55,
   "metadata": {},
   "outputs": [
    {
     "data": {
      "text/plain": [
       "LinearRegression(copy_X=True, fit_intercept=True, n_jobs=None, normalize=False)"
      ]
     },
     "execution_count": 55,
     "metadata": {},
     "output_type": "execute_result"
    }
   ],
   "source": [
    "# Import dependencies\n",
    "from sklearn.datasets import make_regression\n",
    "from sklearn.linear_model import LinearRegression\n",
    "\n",
    "# Create a linear model\n",
    "model = LinearRegression()\n",
    "\n",
    "# Fit (Train) our model to the data\n",
    "model.fit(X, y)"
   ]
  },
  {
   "cell_type": "code",
   "execution_count": 56,
   "metadata": {},
   "outputs": [
    {
     "name": "stdout",
     "output_type": "stream",
     "text": [
      "Mean Squared Error (MSE): 0.006979005642241212\n",
      "R-squared (R2 ): 0.9701191106238106\n"
     ]
    }
   ],
   "source": [
    "from sklearn.metrics import mean_squared_error, r2_score\n",
    "\n",
    "# Use our model to predict a value\n",
    "predicted = model.predict(X)\n",
    "\n",
    "# Score the prediction with mse and r2\n",
    "mse = mean_squared_error(y, predicted)\n",
    "r2 = r2_score(y, predicted)\n",
    "\n",
    "print(f\"Mean Squared Error (MSE): {mse}\")\n",
    "print(f\"R-squared (R2 ): {r2}\")"
   ]
  },
  {
   "cell_type": "code",
   "execution_count": 57,
   "metadata": {},
   "outputs": [
    {
     "data": {
      "text/plain": [
       "0.9701191106238106"
      ]
     },
     "execution_count": 57,
     "metadata": {},
     "output_type": "execute_result"
    }
   ],
   "source": [
    "model.score(X, y)"
   ]
  },
  {
   "cell_type": "code",
   "execution_count": 58,
   "metadata": {},
   "outputs": [],
   "source": [
    "from sklearn.model_selection import train_test_split\n",
    "\n",
    "X_train, X_test, y_train, y_test = train_test_split(X, y, random_state=42)"
   ]
  },
  {
   "cell_type": "code",
   "execution_count": 59,
   "metadata": {},
   "outputs": [
    {
     "data": {
      "text/plain": [
       "LinearRegression(copy_X=True, fit_intercept=True, n_jobs=None, normalize=False)"
      ]
     },
     "execution_count": 59,
     "metadata": {},
     "output_type": "execute_result"
    }
   ],
   "source": [
    "model.fit(X_train, y_train)"
   ]
  },
  {
   "cell_type": "code",
   "execution_count": 60,
   "metadata": {},
   "outputs": [
    {
     "name": "stdout",
     "output_type": "stream",
     "text": [
      "Weight coefficients:  [[0.38488691]]\n",
      "y-axis intercept:  [-0.31099015]\n"
     ]
    }
   ],
   "source": [
    "print('Weight coefficients: ', model.coef_)\n",
    "print('y-axis intercept: ', model.intercept_)"
   ]
  },
  {
   "cell_type": "code",
   "execution_count": 61,
   "metadata": {},
   "outputs": [
    {
     "name": "stdout",
     "output_type": "stream",
     "text": [
      "True output: [0.884314]\n",
      "Predicted output: [0.8719092]\n",
      "Prediction Error: [-0.0124048]\n"
     ]
    }
   ],
   "source": [
    "predictions = model.predict(X)\n",
    "print(f\"True output: {y[0]}\")\n",
    "print(f\"Predicted output: {predictions[0]}\")\n",
    "print(f\"Prediction Error: {predictions[0]-y[0]}\")"
   ]
  },
  {
   "cell_type": "code",
   "execution_count": 62,
   "metadata": {},
   "outputs": [
    {
     "data": {
      "text/html": [
       "<div>\n",
       "<style scoped>\n",
       "    .dataframe tbody tr th:only-of-type {\n",
       "        vertical-align: middle;\n",
       "    }\n",
       "\n",
       "    .dataframe tbody tr th {\n",
       "        vertical-align: top;\n",
       "    }\n",
       "\n",
       "    .dataframe thead th {\n",
       "        text-align: right;\n",
       "    }\n",
       "</style>\n",
       "<table border=\"1\" class=\"dataframe\">\n",
       "  <thead>\n",
       "    <tr style=\"text-align: right;\">\n",
       "      <th></th>\n",
       "      <th>Prediction</th>\n",
       "      <th>Actual</th>\n",
       "      <th>Error</th>\n",
       "    </tr>\n",
       "  </thead>\n",
       "  <tbody>\n",
       "    <tr>\n",
       "      <td>0</td>\n",
       "      <td>0.871909</td>\n",
       "      <td>0.884314</td>\n",
       "      <td>-0.012405</td>\n",
       "    </tr>\n",
       "    <tr>\n",
       "      <td>1</td>\n",
       "      <td>0.892363</td>\n",
       "      <td>0.913198</td>\n",
       "      <td>-0.020835</td>\n",
       "    </tr>\n",
       "    <tr>\n",
       "      <td>2</td>\n",
       "      <td>0.917487</td>\n",
       "      <td>0.954852</td>\n",
       "      <td>-0.037365</td>\n",
       "    </tr>\n",
       "    <tr>\n",
       "      <td>3</td>\n",
       "      <td>0.942763</td>\n",
       "      <td>0.972294</td>\n",
       "      <td>-0.029531</td>\n",
       "    </tr>\n",
       "    <tr>\n",
       "      <td>4</td>\n",
       "      <td>0.968584</td>\n",
       "      <td>1.006792</td>\n",
       "      <td>-0.038208</td>\n",
       "    </tr>\n",
       "  </tbody>\n",
       "</table>\n",
       "</div>"
      ],
      "text/plain": [
       "   Prediction    Actual     Error\n",
       "0    0.871909  0.884314 -0.012405\n",
       "1    0.892363  0.913198 -0.020835\n",
       "2    0.917487  0.954852 -0.037365\n",
       "3    0.942763  0.972294 -0.029531\n",
       "4    0.968584  1.006792 -0.038208"
      ]
     },
     "execution_count": 62,
     "metadata": {},
     "output_type": "execute_result"
    }
   ],
   "source": [
    "table=pd.DataFrame(predictions)\n",
    "table[\"Actual\"]=y\n",
    "table[\"Error\"]=predictions-y\n",
    "table.rename(columns={0: \"Prediction\"}, inplace=True)\n",
    "table.head()\n",
    "              "
   ]
  },
  {
   "cell_type": "code",
   "execution_count": 63,
   "metadata": {},
   "outputs": [],
   "source": [
    "x_min= X_train.min()\n",
    "x_max = X_train.max()"
   ]
  },
  {
   "cell_type": "code",
   "execution_count": 64,
   "metadata": {},
   "outputs": [],
   "source": [
    "y_min_actual = y.min()\n",
    "y_max_actual = y.max()"
   ]
  },
  {
   "cell_type": "code",
   "execution_count": 65,
   "metadata": {},
   "outputs": [
    {
     "name": "stdout",
     "output_type": "stream",
     "text": [
      "Actual Min Value: 0.884314\n",
      "Calculated Min Value: 0.871909189126383\n",
      "Actual Max Value: 2.608511\n",
      "Calculated Max Value: 2.4544524557789464\n"
     ]
    }
   ],
   "source": [
    "y_min = -0.31099015 + 0.38488691 * x_min\n",
    "y_max = -0.31099015 + 0.38488691 * x_max\n",
    "print(f\"Actual Min Value: {y_min_actual}\")\n",
    "print(f\"Calculated Min Value: {y_min}\")\n",
    "print(f\"Actual Max Value: {y_max_actual}\")\n",
    "print(f\"Calculated Max Value: {y_max}\")"
   ]
  },
  {
   "cell_type": "code",
   "execution_count": 66,
   "metadata": {},
   "outputs": [
    {
     "data": {
      "image/png": "[encoded data removed]",
      "text/plain": [
       "<Figure size 432x288 with 1 Axes>"
      ]
     },
     "metadata": {
      "needs_background": "light"
     },
     "output_type": "display_data"
    }
   ],
   "source": [
    "plt.scatter(X, y, marker='|' , c='red', label=\"Actual\")\n",
    "plt.plot([x_min, x_max], [y_min, y_max], marker='|' , c='grey', label=\"Prediction\")\n",
    "\n",
    "\n",
    "# Place a legend on the chart in what matplotlib believes to be the \"best\" location\n",
    "plt.legend(loc=\"best\")\n",
    "\n",
    "plt.title(\"World FEED X Population(Model Fitting)\", fontsize=16, fontweight=\"bold\")\n",
    "plt.xlabel(\"Population\")\n",
    "plt.ylabel(\"FEED\")\n",
    "plt.grid()\n",
    "\n",
    "# Print our chart to the screen\n",
    "plt.savefig(\"Figures/world_feed_fit.png\")\n",
    "plt.show()"
   ]
  },
  {
   "cell_type": "code",
   "execution_count": 67,
   "metadata": {},
   "outputs": [],
   "source": [
    "X_new=[7.295290765, 7.379797139, 7.464022049, 7.547858925, 7.631091248, 7.713468100, 7.794798739, 7.874965825, 7.953952567, 8.031800429, 8.108605388, 8.184437460, 8.259276737, 8.333087316, 8.405863295, 8.477660693, 8.548487400, 8.618349489, 8.687227850, 8.755083431, 8.821562661, 8.887524213, 8.952048940, 9.015437653, 9.138828468, 9.198847240]"
   ]
  },
  {
   "cell_type": "code",
   "execution_count": 68,
   "metadata": {},
   "outputs": [],
   "source": [
    "X_fut=pd.DataFrame(X_new)"
   ]
  },
  {
   "cell_type": "code",
   "execution_count": 69,
   "metadata": {},
   "outputs": [],
   "source": [
    "pred = model.predict(X_fut)"
   ]
  },
  {
   "cell_type": "code",
   "execution_count": 70,
   "metadata": {},
   "outputs": [],
   "source": [
    "x_min_pred= X_fut.min()\n",
    "x_max_pred = X_fut.max()"
   ]
  },
  {
   "cell_type": "code",
   "execution_count": 72,
   "metadata": {},
   "outputs": [
    {
     "data": {
      "image/png": "[encoded data removed]",
      "text/plain": [
       "<Figure size 432x288 with 1 Axes>"
      ]
     },
     "metadata": {
      "needs_background": "light"
     },
     "output_type": "display_data"
    }
   ],
   "source": [
    "plt.scatter(X, y, marker='|' , c='red', label=\"Actual\")\n",
    "plt.plot(X_fut, pred, marker='|' , c='grey', label=\"Prediction\")\n",
    "\n",
    "\n",
    "\n",
    "# Place a legend on the chart in what matplotlib believes to be the \"best\" location\n",
    "plt.legend(loc=\"best\")\n",
    "\n",
    "plt.title(\"World FEED prediction(1960 to 2040)\", fontsize=16, fontweight=\"bold\")\n",
    "plt.xlabel(\"Population\")\n",
    "plt.ylabel(\"FEED\")\n",
    "plt.grid()\n",
    "\n",
    "# Print our chart to the screen\n",
    "plt.savefig(\"Figures/world_FEEDpredict.png\")\n",
    "plt.show()"
   ]
  },
  {
   "cell_type": "markdown",
   "metadata": {},
   "source": [
    "#  US FOOD X POP"
   ]
  },
  {
   "cell_type": "code",
   "execution_count": 129,
   "metadata": {},
   "outputs": [],
   "source": [
    "X=us_pop_filter.Population_bi.values\n",
    "y=df_us.Food_mi.values\n",
    "X=us_pop_filter.Population_bi.values.reshape(-1, 1)\n",
    "y=df_us.Food_mi.values.reshape(-1, 1)"
   ]
  },
  {
   "cell_type": "code",
   "execution_count": 130,
   "metadata": {},
   "outputs": [
    {
     "data": {
      "text/plain": [
       "LinearRegression(copy_X=True, fit_intercept=True, n_jobs=None, normalize=False)"
      ]
     },
     "execution_count": 130,
     "metadata": {},
     "output_type": "execute_result"
    }
   ],
   "source": [
    "# Import dependencies\n",
    "from sklearn.datasets import make_regression\n",
    "from sklearn.linear_model import LinearRegression\n",
    "\n",
    "# Create a linear model\n",
    "model = LinearRegression()\n",
    "\n",
    "# Fit (Train) our model to the data\n",
    "model.fit(X, y)"
   ]
  },
  {
   "cell_type": "code",
   "execution_count": 131,
   "metadata": {},
   "outputs": [
    {
     "name": "stdout",
     "output_type": "stream",
     "text": [
      "Mean Squared Error (MSE): 0.0002529365102701983\n",
      "R-squared (R2 ): 0.9776931542558598\n"
     ]
    }
   ],
   "source": [
    "from sklearn.metrics import mean_squared_error, r2_score\n",
    "\n",
    "# Use our model to predict a value\n",
    "predicted = model.predict(X)\n",
    "\n",
    "# Score the prediction with mse and r2\n",
    "mse = mean_squared_error(y, predicted)\n",
    "r2 = r2_score(y, predicted)\n",
    "\n",
    "print(f\"Mean Squared Error (MSE): {mse}\")\n",
    "print(f\"R-squared (R2 ): {r2}\")"
   ]
  },
  {
   "cell_type": "code",
   "execution_count": 132,
   "metadata": {},
   "outputs": [
    {
     "data": {
      "text/plain": [
       "0.9776931542558599"
      ]
     },
     "execution_count": 132,
     "metadata": {},
     "output_type": "execute_result"
    }
   ],
   "source": [
    "model.score(X, y)"
   ]
  },
  {
   "cell_type": "code",
   "execution_count": 133,
   "metadata": {},
   "outputs": [],
   "source": [
    "from sklearn.model_selection import train_test_split\n",
    "\n",
    "X_train, X_test, y_train, y_test = train_test_split(X, y, random_state=42)"
   ]
  },
  {
   "cell_type": "code",
   "execution_count": 134,
   "metadata": {},
   "outputs": [
    {
     "data": {
      "text/plain": [
       "LinearRegression(copy_X=True, fit_intercept=True, n_jobs=None, normalize=False)"
      ]
     },
     "execution_count": 134,
     "metadata": {},
     "output_type": "execute_result"
    }
   ],
   "source": [
    "model.fit(X_train, y_train)"
   ]
  },
  {
   "cell_type": "code",
   "execution_count": 135,
   "metadata": {},
   "outputs": [
    {
     "name": "stdout",
     "output_type": "stream",
     "text": [
      "Weight coefficients:  [[2.66455219]]\n",
      "y-axis intercept:  [-0.16272045]\n"
     ]
    }
   ],
   "source": [
    "print('Weight coefficients: ', model.coef_)\n",
    "print('y-axis intercept: ', model.intercept_)"
   ]
  },
  {
   "cell_type": "code",
   "execution_count": 136,
   "metadata": {},
   "outputs": [
    {
     "name": "stdout",
     "output_type": "stream",
     "text": [
      "True output: [0.324934]\n",
      "Predicted output: [0.3267338]\n",
      "Prediction Error: [0.0017998]\n"
     ]
    }
   ],
   "source": [
    "predictions = model.predict(X)\n",
    "print(f\"True output: {y[0]}\")\n",
    "print(f\"Predicted output: {predictions[0]}\")\n",
    "print(f\"Prediction Error: {predictions[0]-y[0]}\")"
   ]
  },
  {
   "cell_type": "code",
   "execution_count": 137,
   "metadata": {},
   "outputs": [
    {
     "data": {
      "text/html": [
       "<div>\n",
       "<style scoped>\n",
       "    .dataframe tbody tr th:only-of-type {\n",
       "        vertical-align: middle;\n",
       "    }\n",
       "\n",
       "    .dataframe tbody tr th {\n",
       "        vertical-align: top;\n",
       "    }\n",
       "\n",
       "    .dataframe thead th {\n",
       "        text-align: right;\n",
       "    }\n",
       "</style>\n",
       "<table border=\"1\" class=\"dataframe\">\n",
       "  <thead>\n",
       "    <tr style=\"text-align: right;\">\n",
       "      <th></th>\n",
       "      <th>Prediction</th>\n",
       "      <th>Actual</th>\n",
       "      <th>Error</th>\n",
       "    </tr>\n",
       "  </thead>\n",
       "  <tbody>\n",
       "    <tr>\n",
       "      <td>0</td>\n",
       "      <td>0.326734</td>\n",
       "      <td>0.324934</td>\n",
       "      <td>0.001800</td>\n",
       "    </tr>\n",
       "    <tr>\n",
       "      <td>1</td>\n",
       "      <td>0.334320</td>\n",
       "      <td>0.327778</td>\n",
       "      <td>0.006542</td>\n",
       "    </tr>\n",
       "    <tr>\n",
       "      <td>2</td>\n",
       "      <td>0.341525</td>\n",
       "      <td>0.329060</td>\n",
       "      <td>0.012465</td>\n",
       "    </tr>\n",
       "    <tr>\n",
       "      <td>3</td>\n",
       "      <td>0.348578</td>\n",
       "      <td>0.337165</td>\n",
       "      <td>0.011413</td>\n",
       "    </tr>\n",
       "    <tr>\n",
       "      <td>4</td>\n",
       "      <td>0.355010</td>\n",
       "      <td>0.340652</td>\n",
       "      <td>0.014358</td>\n",
       "    </tr>\n",
       "  </tbody>\n",
       "</table>\n",
       "</div>"
      ],
      "text/plain": [
       "   Prediction    Actual     Error\n",
       "0    0.326734  0.324934  0.001800\n",
       "1    0.334320  0.327778  0.006542\n",
       "2    0.341525  0.329060  0.012465\n",
       "3    0.348578  0.337165  0.011413\n",
       "4    0.355010  0.340652  0.014358"
      ]
     },
     "execution_count": 137,
     "metadata": {},
     "output_type": "execute_result"
    }
   ],
   "source": [
    "table=pd.DataFrame(predictions)\n",
    "table[\"Actual\"]=y\n",
    "table[\"Error\"]=predictions-y\n",
    "table.rename(columns={0: \"Prediction\"}, inplace=True)\n",
    "table.head()\n",
    "              "
   ]
  },
  {
   "cell_type": "code",
   "execution_count": 138,
   "metadata": {},
   "outputs": [],
   "source": [
    "x_min= X_train.min()\n",
    "x_max = X_train.max()\n",
    "y_min_actual = y.min()\n",
    "y_max_actual = y.max()\n",
    "y_min = -0.16272045 + 2.66455219 * x_min\n",
    "y_max = -0.16272045 + 2.66455219 * x_max"
   ]
  },
  {
   "cell_type": "code",
   "execution_count": 139,
   "metadata": {},
   "outputs": [
    {
     "data": {
      "image/png": "[encoded data removed]",
      "text/plain": [
       "<Figure size 432x288 with 1 Axes>"
      ]
     },
     "metadata": {
      "needs_background": "light"
     },
     "output_type": "display_data"
    }
   ],
   "source": [
    "plt.scatter(X, y, marker='|' , c='red', label=\"Actual\")\n",
    "plt.plot([x_min, x_max], [y_min, y_max], marker='|' , c='grey', label=\"Prediction\")\n",
    "\n",
    "\n",
    "# Place a legend on the chart in what matplotlib believes to be the \"best\" location\n",
    "plt.legend(loc=\"best\")\n",
    "\n",
    "plt.title(\"US FOOD X Population(Model Fitting)\", fontsize=16, fontweight=\"bold\")\n",
    "plt.xlabel(\"US Population\")\n",
    "plt.ylabel(\"FOOD\")\n",
    "plt.grid()\n",
    "\n",
    "# Print our chart to the screen\n",
    "plt.savefig(\"Figures/us_food_fit.png\")\n",
    "plt.show()"
   ]
  },
  {
   "cell_type": "markdown",
   "metadata": {},
   "source": [
    "#  US FEED X POP"
   ]
  },
  {
   "cell_type": "code",
   "execution_count": 140,
   "metadata": {},
   "outputs": [],
   "source": [
    "X=us_pop_filter.Population_bi.values\n",
    "y=df_us.Feed_mi.values\n",
    "X=us_pop_filter.Population_bi.values.reshape(-1, 1)\n",
    "y=df_us.Feed_mi.values.reshape(-1, 1)"
   ]
  },
  {
   "cell_type": "code",
   "execution_count": 141,
   "metadata": {},
   "outputs": [
    {
     "data": {
      "text/plain": [
       "LinearRegression(copy_X=True, fit_intercept=True, n_jobs=None, normalize=False)"
      ]
     },
     "execution_count": 141,
     "metadata": {},
     "output_type": "execute_result"
    }
   ],
   "source": [
    "# Import dependencies\n",
    "from sklearn.datasets import make_regression\n",
    "from sklearn.linear_model import LinearRegression\n",
    "\n",
    "# Create a linear model\n",
    "model = LinearRegression()\n",
    "\n",
    "# Fit (Train) our model to the data\n",
    "model.fit(X, y)"
   ]
  },
  {
   "cell_type": "code",
   "execution_count": 142,
   "metadata": {},
   "outputs": [
    {
     "name": "stdout",
     "output_type": "stream",
     "text": [
      "Mean Squared Error (MSE): 0.000839456595176927\n",
      "R-squared (R2 ): 0.43004155148857726\n"
     ]
    }
   ],
   "source": [
    "from sklearn.metrics import mean_squared_error, r2_score\n",
    "\n",
    "# Use our model to predict a value\n",
    "predicted = model.predict(X)\n",
    "\n",
    "# Score the prediction with mse and r2\n",
    "mse = mean_squared_error(y, predicted)\n",
    "r2 = r2_score(y, predicted)\n",
    "\n",
    "print(f\"Mean Squared Error (MSE): {mse}\")\n",
    "print(f\"R-squared (R2 ): {r2}\")"
   ]
  },
  {
   "cell_type": "code",
   "execution_count": 143,
   "metadata": {},
   "outputs": [
    {
     "data": {
      "text/plain": [
       "0.4300415514885773"
      ]
     },
     "execution_count": 143,
     "metadata": {},
     "output_type": "execute_result"
    }
   ],
   "source": [
    "model.score(X, y)"
   ]
  },
  {
   "cell_type": "code",
   "execution_count": 144,
   "metadata": {},
   "outputs": [
    {
     "data": {
      "text/plain": [
       "LinearRegression(copy_X=True, fit_intercept=True, n_jobs=None, normalize=False)"
      ]
     },
     "execution_count": 144,
     "metadata": {},
     "output_type": "execute_result"
    }
   ],
   "source": [
    "from sklearn.model_selection import train_test_split\n",
    "\n",
    "X_train, X_test, y_train, y_test = train_test_split(X, y, random_state=42)\n",
    "model.fit(X_train, y_train)"
   ]
  },
  {
   "cell_type": "code",
   "execution_count": 145,
   "metadata": {},
   "outputs": [
    {
     "name": "stdout",
     "output_type": "stream",
     "text": [
      "Weight coefficients:  [[0.63224198]]\n",
      "y-axis intercept:  [0.13831499]\n"
     ]
    }
   ],
   "source": [
    "print('Weight coefficients: ', model.coef_)\n",
    "print('y-axis intercept: ', model.intercept_)"
   ]
  },
  {
   "cell_type": "code",
   "execution_count": 146,
   "metadata": {},
   "outputs": [],
   "source": [
    "predictions = model.predict(X)"
   ]
  },
  {
   "cell_type": "code",
   "execution_count": 147,
   "metadata": {},
   "outputs": [],
   "source": [
    "x_min= X_train.min()\n",
    "x_max = X_train.max()\n",
    "y_min_actual = y.min()\n",
    "y_max_actual = y.max()\n",
    "y_min = 0.138314995 + 0.63224198 * x_min\n",
    "y_max = 0.13831499 + 0.63224198 * x_max"
   ]
  },
  {
   "cell_type": "code",
   "execution_count": 148,
   "metadata": {},
   "outputs": [
    {
     "data": {
      "image/png": "[encoded data removed]",
      "text/plain": [
       "<Figure size 432x288 with 1 Axes>"
      ]
     },
     "metadata": {
      "needs_background": "light"
     },
     "output_type": "display_data"
    }
   ],
   "source": [
    "plt.scatter(X, y, marker='|' , c='red', label=\"Actual\")\n",
    "plt.plot([x_min, x_max], [y_min, y_max], marker='|' , c='grey', label=\"Prediction\")\n",
    "\n",
    "\n",
    "# Place a legend on the chart in what matplotlib believes to be the \"best\" location\n",
    "plt.legend(loc=\"best\")\n",
    "\n",
    "plt.title(\"US FEED X Population(Model Fitting)\", fontsize=16, fontweight=\"bold\")\n",
    "plt.xlabel(\"US Population\")\n",
    "plt.ylabel(\"FEED\")\n",
    "plt.grid()\n",
    "\n",
    "# Print our chart to the screen\n",
    "plt.savefig(\"Figures/us_feed_fit.png\")\n",
    "plt.show()"
   ]
  },
  {
   "cell_type": "markdown",
   "metadata": {},
   "source": [
    "#  IN FEED VS POP"
   ]
  },
  {
   "cell_type": "code",
   "execution_count": 154,
   "metadata": {},
   "outputs": [],
   "source": [
    "X=in_pop_filter.Population_bi.values\n",
    "y=df_in.Feed_mi.values\n",
    "X=in_pop_filter.Population_bi.values.reshape(-1, 1)\n",
    "y=df_in.Feed_mi.values.reshape(-1, 1)"
   ]
  },
  {
   "cell_type": "code",
   "execution_count": 155,
   "metadata": {},
   "outputs": [
    {
     "data": {
      "text/plain": [
       "LinearRegression(copy_X=True, fit_intercept=True, n_jobs=None, normalize=False)"
      ]
     },
     "execution_count": 155,
     "metadata": {},
     "output_type": "execute_result"
    }
   ],
   "source": [
    "# Import dependencies\n",
    "from sklearn.datasets import make_regression\n",
    "from sklearn.linear_model import LinearRegression\n",
    "\n",
    "# Create a linear model\n",
    "model = LinearRegression()\n",
    "\n",
    "# Fit (Train) our model to the data\n",
    "model.fit(X, y)"
   ]
  },
  {
   "cell_type": "code",
   "execution_count": 156,
   "metadata": {},
   "outputs": [
    {
     "name": "stdout",
     "output_type": "stream",
     "text": [
      "Mean Squared Error (MSE): 7.602656401708818e-05\n",
      "R-squared (R2 ): 0.8786626467490585\n"
     ]
    }
   ],
   "source": [
    "from sklearn.metrics import mean_squared_error, r2_score\n",
    "\n",
    "# Use our model to predict a value\n",
    "predicted = model.predict(X)\n",
    "\n",
    "# Score the prediction with mse and r2\n",
    "mse = mean_squared_error(y, predicted)\n",
    "r2 = r2_score(y, predicted)\n",
    "\n",
    "print(f\"Mean Squared Error (MSE): {mse}\")\n",
    "print(f\"R-squared (R2 ): {r2}\")"
   ]
  },
  {
   "cell_type": "code",
   "execution_count": 157,
   "metadata": {},
   "outputs": [
    {
     "data": {
      "text/plain": [
       "0.8786626467490585"
      ]
     },
     "execution_count": 157,
     "metadata": {},
     "output_type": "execute_result"
    }
   ],
   "source": [
    "model.score(X, y)"
   ]
  },
  {
   "cell_type": "code",
   "execution_count": 158,
   "metadata": {},
   "outputs": [
    {
     "data": {
      "text/plain": [
       "LinearRegression(copy_X=True, fit_intercept=True, n_jobs=None, normalize=False)"
      ]
     },
     "execution_count": 158,
     "metadata": {},
     "output_type": "execute_result"
    }
   ],
   "source": [
    "from sklearn.model_selection import train_test_split\n",
    "\n",
    "X_train, X_test, y_train, y_test = train_test_split(X, y, random_state=42)\n",
    "model.fit(X_train, y_train)"
   ]
  },
  {
   "cell_type": "code",
   "execution_count": 159,
   "metadata": {},
   "outputs": [
    {
     "name": "stdout",
     "output_type": "stream",
     "text": [
      "Weight coefficients:  [[0.09330949]]\n",
      "y-axis intercept:  [-0.04126713]\n"
     ]
    }
   ],
   "source": [
    "print('Weight coefficients: ', model.coef_)\n",
    "print('y-axis intercept: ', model.intercept_)"
   ]
  },
  {
   "cell_type": "code",
   "execution_count": 162,
   "metadata": {},
   "outputs": [],
   "source": [
    "predictions = model.predict(X)"
   ]
  },
  {
   "cell_type": "code",
   "execution_count": 163,
   "metadata": {},
   "outputs": [],
   "source": [
    "x_min= X_train.min()\n",
    "x_max = X_train.max()\n",
    "y_min_actual = y.min()\n",
    "y_max_actual = y.max()\n",
    "y_min = -0.04126713 + 0.09330949 * x_min\n",
    "y_max = -0.04126713 + 0.09330949 * x_max"
   ]
  },
  {
   "cell_type": "code",
   "execution_count": 164,
   "metadata": {},
   "outputs": [
    {
     "data": {
      "image/png": "[encoded data removed]",
      "text/plain": [
       "<Figure size 432x288 with 1 Axes>"
      ]
     },
     "metadata": {
      "needs_background": "light"
     },
     "output_type": "display_data"
    }
   ],
   "source": [
    "plt.scatter(X, y, marker='|' , c='red', label=\"Actual\")\n",
    "plt.plot([x_min, x_max], [y_min, y_max], marker='|' , c='grey', label=\"Prediction\")\n",
    "\n",
    "\n",
    "# Place a legend on the chart in what matplotlib believes to be the \"best\" location\n",
    "plt.legend(loc=\"best\")\n",
    "\n",
    "plt.title(\"IN FEED X Population(Model Fitting)\", fontsize=16, fontweight=\"bold\")\n",
    "plt.xlabel(\"IN Population\")\n",
    "plt.ylabel(\"FEED\")\n",
    "plt.grid()\n",
    "\n",
    "# Print our chart to the screen\n",
    "plt.savefig(\"Figures/in_feed_fit.png\")\n",
    "plt.show()"
   ]
  },
  {
   "cell_type": "markdown",
   "metadata": {},
   "source": [
    "#  IN FOOD VS POP"
   ]
  },
  {
   "cell_type": "code",
   "execution_count": 165,
   "metadata": {},
   "outputs": [],
   "source": [
    "X=in_pop_filter.Population_bi.values\n",
    "y=df_in.Food_mi.values\n",
    "X=in_pop_filter.Population_bi.values.reshape(-1, 1)\n",
    "y=df_in.Food_mi.values.reshape(-1, 1)"
   ]
  },
  {
   "cell_type": "code",
   "execution_count": 166,
   "metadata": {},
   "outputs": [
    {
     "data": {
      "text/plain": [
       "LinearRegression(copy_X=True, fit_intercept=True, n_jobs=None, normalize=False)"
      ]
     },
     "execution_count": 166,
     "metadata": {},
     "output_type": "execute_result"
    }
   ],
   "source": [
    "# Import dependencies\n",
    "from sklearn.datasets import make_regression\n",
    "from sklearn.linear_model import LinearRegression\n",
    "\n",
    "# Create a linear model\n",
    "model = LinearRegression()\n",
    "\n",
    "# Fit (Train) our model to the data\n",
    "model.fit(X, y)"
   ]
  },
  {
   "cell_type": "code",
   "execution_count": 167,
   "metadata": {},
   "outputs": [
    {
     "name": "stdout",
     "output_type": "stream",
     "text": [
      "Mean Squared Error (MSE): 0.0013548860573261916\n",
      "R-squared (R2 ): 0.9821884406189725\n"
     ]
    }
   ],
   "source": [
    "from sklearn.metrics import mean_squared_error, r2_score\n",
    "\n",
    "# Use our model to predict a value\n",
    "predicted = model.predict(X)\n",
    "\n",
    "# Score the prediction with mse and r2\n",
    "mse = mean_squared_error(y, predicted)\n",
    "r2 = r2_score(y, predicted)\n",
    "\n",
    "print(f\"Mean Squared Error (MSE): {mse}\")\n",
    "print(f\"R-squared (R2 ): {r2}\")"
   ]
  },
  {
   "cell_type": "code",
   "execution_count": 168,
   "metadata": {},
   "outputs": [
    {
     "data": {
      "text/plain": [
       "0.9821884406189725"
      ]
     },
     "execution_count": 168,
     "metadata": {},
     "output_type": "execute_result"
    }
   ],
   "source": [
    "model.score(X, y)"
   ]
  },
  {
   "cell_type": "code",
   "execution_count": 169,
   "metadata": {},
   "outputs": [
    {
     "data": {
      "text/plain": [
       "LinearRegression(copy_X=True, fit_intercept=True, n_jobs=None, normalize=False)"
      ]
     },
     "execution_count": 169,
     "metadata": {},
     "output_type": "execute_result"
    }
   ],
   "source": [
    "from sklearn.model_selection import train_test_split\n",
    "\n",
    "X_train, X_test, y_train, y_test = train_test_split(X, y, random_state=42)\n",
    "model.fit(X_train, y_train)"
   ]
  },
  {
   "cell_type": "code",
   "execution_count": 170,
   "metadata": {},
   "outputs": [
    {
     "name": "stdout",
     "output_type": "stream",
     "text": [
      "Weight coefficients:  [[1.08910926]]\n",
      "y-axis intercept:  [-0.25704929]\n"
     ]
    }
   ],
   "source": [
    "print('Weight coefficients: ', model.coef_)\n",
    "print('y-axis intercept: ', model.intercept_)"
   ]
  },
  {
   "cell_type": "code",
   "execution_count": 171,
   "metadata": {},
   "outputs": [],
   "source": [
    "predictions = model.predict(X)"
   ]
  },
  {
   "cell_type": "code",
   "execution_count": 173,
   "metadata": {},
   "outputs": [],
   "source": [
    "x_min= X_train.min()\n",
    "x_max = X_train.max()\n",
    "y_min_actual = y.min()\n",
    "y_max_actual = y.max()\n",
    "y_min = -0.25704929 + 1.08910926 * x_min\n",
    "y_max = -0.25704929 + 1.08910926 * x_max"
   ]
  },
  {
   "cell_type": "code",
   "execution_count": 174,
   "metadata": {},
   "outputs": [
    {
     "data": {
      "image/png": "[encoded data removed]",
      "text/plain": [
       "<Figure size 432x288 with 1 Axes>"
      ]
     },
     "metadata": {
      "needs_background": "light"
     },
     "output_type": "display_data"
    }
   ],
   "source": [
    "plt.scatter(X, y, marker='|' , c='red', label=\"Actual\")\n",
    "plt.plot([x_min, x_max], [y_min, y_max], marker='|' , c='grey', label=\"Prediction\")\n",
    "\n",
    "\n",
    "# Place a legend on the chart in what matplotlib believes to be the \"best\" location\n",
    "plt.legend(loc=\"best\")\n",
    "\n",
    "plt.title(\"IN FOOD X Population(Model Fitting)\", fontsize=16, fontweight=\"bold\")\n",
    "plt.xlabel(\"IN Population\")\n",
    "plt.ylabel(\"FOOD\")\n",
    "plt.grid()\n",
    "\n",
    "# Print our chart to the screen\n",
    "plt.savefig(\"Figures/in_food_fit.png\")\n",
    "plt.show()"
   ]
  },
  {
   "cell_type": "code",
   "execution_count": null,
   "metadata": {},
   "outputs": [],
   "source": []
  }
 ],
 "metadata": {
  "kernelspec": {
   "display_name": "Python 3",
   "language": "python",
   "name": "python3"
  },
  "language_info": {
   "codemirror_mode": {
    "name": "ipython",
    "version": 3
   },
   "file_extension": ".py",
   "mimetype": "text/x-python",
   "name": "python",
   "nbconvert_exporter": "python",
   "pygments_lexer": "ipython3",
   "version": "3.7.4"
  }
 },
 "nbformat": 4,
 "nbformat_minor": 2
}
